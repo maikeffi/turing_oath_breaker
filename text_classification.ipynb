{
 "cells": [
  {
   "cell_type": "code",
   "execution_count": 1,
   "metadata": {},
   "outputs": [
    {
     "name": "stderr",
     "output_type": "stream",
     "text": [
      "Warming up PyWSD (takes ~10 secs)... took 4.47531795501709 secs.\n"
     ]
    }
   ],
   "source": [
    "import re\n",
    "import pandas as pd\n",
    "import nltk\n",
    "from collections import Counter\n",
    "import matplotlib.pyplot as plt\n",
    "import numpy as np\n",
    "import nltk \n",
    "nltk.data.path.append(\"/var/lib/docker/nltk_data\")\n",
    "from nltk.corpus import stopwords\n",
    "from nltk.tokenize import word_tokenize\n",
    "from nltk.stem import PorterStemmer\n",
    "from nltk.stem import WordNetLemmatizer\n",
    "import seaborn as sns\n",
    "from textblob import TextBlob\n",
    "from textblob import Word\n",
    "from pywsd.utils import lemmatize_sentence"
   ]
  },
  {
   "cell_type": "code",
   "execution_count": 2,
   "metadata": {},
   "outputs": [],
   "source": [
    "data = pd.read_csv('data/ads_en_us.csv')"
   ]
  },
  {
   "cell_type": "code",
   "execution_count": 3,
   "metadata": {},
   "outputs": [
    {
     "data": {
      "text/html": [
       "<div>\n",
       "<style scoped>\n",
       "    .dataframe tbody tr th:only-of-type {\n",
       "        vertical-align: middle;\n",
       "    }\n",
       "\n",
       "    .dataframe tbody tr th {\n",
       "        vertical-align: top;\n",
       "    }\n",
       "\n",
       "    .dataframe thead th {\n",
       "        text-align: right;\n",
       "    }\n",
       "</style>\n",
       "<table border=\"1\" class=\"dataframe\">\n",
       "  <thead>\n",
       "    <tr style=\"text-align: right;\">\n",
       "      <th></th>\n",
       "      <th>Unnamed: 0</th>\n",
       "      <th>catid</th>\n",
       "      <th>id</th>\n",
       "      <th>subcatid</th>\n",
       "      <th>value</th>\n",
       "    </tr>\n",
       "  </thead>\n",
       "  <tbody>\n",
       "    <tr>\n",
       "      <th>0</th>\n",
       "      <td>0</td>\n",
       "      <td>2</td>\n",
       "      <td>45493</td>\n",
       "      <td>27</td>\n",
       "      <td>Overview \\r\\n \\r\\nWhy AFFIRMA Rehabilitation? ...</td>\n",
       "    </tr>\n",
       "    <tr>\n",
       "      <th>1</th>\n",
       "      <td>1</td>\n",
       "      <td>2</td>\n",
       "      <td>45499</td>\n",
       "      <td>27</td>\n",
       "      <td>Overview \\r\\n \\r\\nWhy AFFIRMA Rehabilitation? ...</td>\n",
       "    </tr>\n",
       "    <tr>\n",
       "      <th>2</th>\n",
       "      <td>2</td>\n",
       "      <td>2</td>\n",
       "      <td>45522</td>\n",
       "      <td>27</td>\n",
       "      <td>Overview:\\r\\n\\r\\nUnder general supervision by ...</td>\n",
       "    </tr>\n",
       "    <tr>\n",
       "      <th>3</th>\n",
       "      <td>3</td>\n",
       "      <td>2</td>\n",
       "      <td>45543</td>\n",
       "      <td>134</td>\n",
       "      <td>Be your own boss working under a Strong Brand ...</td>\n",
       "    </tr>\n",
       "    <tr>\n",
       "      <th>4</th>\n",
       "      <td>4</td>\n",
       "      <td>2</td>\n",
       "      <td>45545</td>\n",
       "      <td>134</td>\n",
       "      <td>Be your own boss working under a Strong Brand ...</td>\n",
       "    </tr>\n",
       "  </tbody>\n",
       "</table>\n",
       "</div>"
      ],
      "text/plain": [
       "   Unnamed: 0  catid     id  subcatid  \\\n",
       "0           0      2  45493        27   \n",
       "1           1      2  45499        27   \n",
       "2           2      2  45522        27   \n",
       "3           3      2  45543       134   \n",
       "4           4      2  45545       134   \n",
       "\n",
       "                                               value  \n",
       "0  Overview \\r\\n \\r\\nWhy AFFIRMA Rehabilitation? ...  \n",
       "1  Overview \\r\\n \\r\\nWhy AFFIRMA Rehabilitation? ...  \n",
       "2  Overview:\\r\\n\\r\\nUnder general supervision by ...  \n",
       "3  Be your own boss working under a Strong Brand ...  \n",
       "4  Be your own boss working under a Strong Brand ...  "
      ]
     },
     "execution_count": 3,
     "metadata": {},
     "output_type": "execute_result"
    }
   ],
   "source": [
    "data.head()"
   ]
  },
  {
   "cell_type": "code",
   "execution_count": 4,
   "metadata": {},
   "outputs": [
    {
     "data": {
      "text/plain": [
       "Counter({2: 95005, 3: 2596})"
      ]
     },
     "execution_count": 4,
     "metadata": {},
     "output_type": "execute_result"
    }
   ],
   "source": [
    "Counter(data[\"catid\"])"
   ]
  },
  {
   "cell_type": "code",
   "execution_count": 5,
   "metadata": {},
   "outputs": [
    {
     "data": {
      "image/png": "[encoded data removed]",
      "text/plain": [
       "<Figure size 432x288 with 1 Axes>"
      ]
     },
     "metadata": {
      "needs_background": "light"
     },
     "output_type": "display_data"
    }
   ],
   "source": [
    "fax = sns.countplot(x=\"subcatid\", data=data)\n",
    "plt.show()"
   ]
  },
  {
   "cell_type": "markdown",
   "metadata": {},
   "source": [
    "## Remove Duplicates in value fields "
   ]
  },
  {
   "cell_type": "code",
   "execution_count": 6,
   "metadata": {},
   "outputs": [],
   "source": [
    "data = data.drop_duplicates(subset='value',keep='last')"
   ]
  },
  {
   "cell_type": "code",
   "execution_count": 7,
   "metadata": {},
   "outputs": [
    {
     "data": {
      "image/png": "[encoded data removed]",
      "text/plain": [
       "<Figure size 576x432 with 1 Axes>"
      ]
     },
     "metadata": {
      "needs_background": "light"
     },
     "output_type": "display_data"
    }
   ],
   "source": [
    "fig = plt.figure(figsize=(8,6))\n",
    "fax = sns.countplot(x=\"subcatid\", data=data)\n",
    "plt.show()"
   ]
  },
  {
   "cell_type": "markdown",
   "metadata": {},
   "source": [
    "# Handling skewness"
   ]
  },
  {
   "cell_type": "code",
   "execution_count": 8,
   "metadata": {},
   "outputs": [],
   "source": [
    "data_27 = data.loc[data.subcatid == 27, :]\n",
    "data_27s = data_27.sample(frac=0.5)\n",
    "data1 = data[data.subcatid != 27]\n",
    "data_s = pd.concat([data1, data_27s], axis = 0 )\n"
   ]
  },
  {
   "cell_type": "code",
   "execution_count": 9,
   "metadata": {},
   "outputs": [
    {
     "data": {
      "image/png": "[encoded data removed]",
      "text/plain": [
       "<Figure size 576x432 with 1 Axes>"
      ]
     },
     "metadata": {
      "needs_background": "light"
     },
     "output_type": "display_data"
    }
   ],
   "source": [
    "fig = plt.figure(figsize=(8,6))\n",
    "fax = sns.countplot(x=\"subcatid\", data=data_s)\n",
    "plt.show()"
   ]
  },
  {
   "cell_type": "code",
   "execution_count": 10,
   "metadata": {},
   "outputs": [],
   "source": [
    "def clean_str(s):\n",
    "    \"\"\"Clean sentence\"\"\"\n",
    "    s = re.sub(r\"[^A-Za-z0-9(),!?\\'\\`]\", \" \", s)\n",
    "    s = re.sub(r\"\\'s\", \" \\'s\", s)\n",
    "    s = re.sub(r\"\\'ve\", \" \\'ve\", s)\n",
    "    s = re.sub(r\"n\\'t\", \" n\\'t\", s)\n",
    "    s = re.sub(r\"\\'re\", \" \\'re\", s)\n",
    "    s = re.sub(r\"\\'d\", \" \\'d\", s)\n",
    "    s = re.sub(r\"\\'ll\", \" \\'ll\", s)\n",
    "    s = re.sub(r\",\", \" , \", s)\n",
    "    s = re.sub(r\"!\", \" ! \", s)\n",
    "    s = re.sub(r\"\\(\", \" \\( \", s)\n",
    "    s = re.sub(r\"\\)\", \" \\) \", s)\n",
    "    s = re.sub(r\"\\?\", \" \\? \", s)\n",
    "    s = re.sub(r\"\\s{2,}\", \" \", s)\n",
    "    s = re.sub(r'\\S*(x{2,}|X{2,})\\S*',\"xxx\", s)\n",
    "    s = re.sub(r'[^\\x00-\\x7F]+', \"\", s)\n",
    "    s = re.sub(r'[^\\w\\s]',\"\",s)\n",
    "    return s.strip().lower()"
   ]
  },
  {
   "cell_type": "code",
   "execution_count": 11,
   "metadata": {},
   "outputs": [],
   "source": [
    "data_s['value_processed'] = data_s.value.apply(clean_str)"
   ]
  },
  {
   "cell_type": "markdown",
   "metadata": {},
   "source": [
    "## Keeping Data that has count > 100"
   ]
  },
  {
   "cell_type": "code",
   "execution_count": 13,
   "metadata": {},
   "outputs": [],
   "source": [
    "data_bal=data_s.groupby('subcatid').filter(lambda x: len(x) >= 100)"
   ]
  },
  {
   "cell_type": "code",
   "execution_count": 14,
   "metadata": {},
   "outputs": [
    {
     "data": {
      "text/plain": [
       "57     job description job description i am pleased t...\n",
       "106    procurement contracts manager the opportunity ...\n",
       "107    director  technical accounting and revenue rec...\n",
       "113    software engineering lead architect as a softw...\n",
       "118    be your own boss working under a strong brand ...\n",
       "Name: value_processed, dtype: object"
      ]
     },
     "execution_count": 14,
     "metadata": {},
     "output_type": "execute_result"
    }
   ],
   "source": [
    "data_bal.value_processed.head()"
   ]
  },
  {
   "cell_type": "code",
   "execution_count": 15,
   "metadata": {},
   "outputs": [
    {
     "data": {
      "image/png": "[encoded data removed]",
      "text/plain": [
       "<Figure size 432x288 with 1 Axes>"
      ]
     },
     "metadata": {
      "needs_background": "light"
     },
     "output_type": "display_data"
    }
   ],
   "source": [
    "fax = sns.countplot(x=\"subcatid\", data=data_bal)\n",
    "plt.show()"
   ]
  },
  {
   "cell_type": "markdown",
   "metadata": {},
   "source": [
    "## Remove Stop words "
   ]
  },
  {
   "cell_type": "code",
   "execution_count": 16,
   "metadata": {},
   "outputs": [],
   "source": [
    "stop_words = set(stopwords.words('english'))\n",
    "stop_words.add('The')\n",
    "stop_words.add('This')\n",
    "ps = PorterStemmer()\n",
    "lemmatizer = WordNetLemmatizer()"
   ]
  },
  {
   "cell_type": "code",
   "execution_count": 17,
   "metadata": {},
   "outputs": [],
   "source": [
    "def remove_stop_words(sentence):\n",
    "    word_tokens = word_tokenize(sentence)\n",
    "    filtered_sentence = [w for w in word_tokens if not w in stop_words]\n",
    "    sentence = ' '.join(filtered_sentence)\n",
    "    return sentence"
   ]
  },
  {
   "cell_type": "code",
   "execution_count": 18,
   "metadata": {},
   "outputs": [],
   "source": [
    "def perform_stemming(sentence):\n",
    "    word_tokens = word_tokenize(sentence)\n",
    "    stemmed_sentence = [ps.stem(w) for w in word_tokens]\n",
    "    return ' '.join(stemmed_sentence)\n",
    "    "
   ]
  },
  {
   "cell_type": "code",
   "execution_count": 19,
   "metadata": {},
   "outputs": [],
   "source": [
    "def perform_lemm(sentence):\n",
    "    word_tokens = word_tokenize(sentence)\n",
    "    lemm_sentence = [lemmatizer.lemmatize(w,pos='v') for w in word_tokens]\n",
    "    return ' '.join(lemm_sentence)"
   ]
  },
  {
   "cell_type": "code",
   "execution_count": 20,
   "metadata": {},
   "outputs": [
    {
     "name": "stderr",
     "output_type": "stream",
     "text": [
      "/home/sorta/.local/lib/python3.6/site-packages/ipykernel_launcher.py:1: SettingWithCopyWarning: \n",
      "A value is trying to be set on a copy of a slice from a DataFrame.\n",
      "Try using .loc[row_indexer,col_indexer] = value instead\n",
      "\n",
      "See the caveats in the documentation: http://pandas.pydata.org/pandas-docs/stable/indexing.html#indexing-view-versus-copy\n",
      "  \"\"\"Entry point for launching an IPython kernel.\n"
     ]
    }
   ],
   "source": [
    "data_bal['value_processed'] = data_bal.value_processed.apply(remove_stop_words)"
   ]
  },
  {
   "cell_type": "code",
   "execution_count": 21,
   "metadata": {},
   "outputs": [
    {
     "name": "stderr",
     "output_type": "stream",
     "text": [
      "/home/sorta/.local/lib/python3.6/site-packages/ipykernel_launcher.py:1: SettingWithCopyWarning: \n",
      "A value is trying to be set on a copy of a slice from a DataFrame.\n",
      "Try using .loc[row_indexer,col_indexer] = value instead\n",
      "\n",
      "See the caveats in the documentation: http://pandas.pydata.org/pandas-docs/stable/indexing.html#indexing-view-versus-copy\n",
      "  \"\"\"Entry point for launching an IPython kernel.\n"
     ]
    }
   ],
   "source": [
    "data_bal['value_processed_lemm'] = data_bal.value_processed.apply(perform_lemm)"
   ]
  },
  {
   "cell_type": "code",
   "execution_count": 22,
   "metadata": {},
   "outputs": [
    {
     "data": {
      "text/plain": [
       "57     job description job description pleased call a...\n",
       "106    procurement contracts manager opportunity mark...\n",
       "107    director technical accounting revenue recognit...\n",
       "113    software engineering lead architect software e...\n",
       "118    boss working strong brand track record success...\n",
       "119    usa truck dedicated services division truck dr...\n",
       "120    cynergistek cynergistek top ranked cybersecuri...\n",
       "124    job description director technical accounting ...\n",
       "125    job description enterprise sales development r...\n",
       "127    technical revenue recognition manager opportun...\n",
       "128    senior staff engineer security opportunity loo...\n",
       "129    opportunity member marketo support goal provid...\n",
       "130    job description trust estate probate paralegal...\n",
       "131    privacy counsel opportunity marketo seeking pr...\n",
       "132    enterprise sales development representative op...\n",
       "133    job description staff software engineer market...\n",
       "135    technical accounting manager opportunity marke...\n",
       "137    job description special counsel assisting clie...\n",
       "138    copywriter brand white house black market cate...\n",
       "139    job description hiring commercial real estate ...\n",
       "Name: value_processed, dtype: object"
      ]
     },
     "execution_count": 22,
     "metadata": {},
     "output_type": "execute_result"
    }
   ],
   "source": [
    "data_bal.value_processed.head(20)"
   ]
  },
  {
   "cell_type": "code",
   "execution_count": 23,
   "metadata": {},
   "outputs": [
    {
     "data": {
      "text/plain": [
       "57     job description job description please call at...\n",
       "106    procurement contract manager opportunity marke...\n",
       "107    director technical account revenue recognition...\n",
       "113    software engineer lead architect software engi...\n",
       "118    boss work strong brand track record success ca...\n",
       "119    usa truck dedicate service division truck driv...\n",
       "120    cynergistek cynergistek top rank cybersecurity...\n",
       "124    job description director technical account rev...\n",
       "125    job description enterprise sales development r...\n",
       "127    technical revenue recognition manager opportun...\n",
       "128    senior staff engineer security opportunity loo...\n",
       "129    opportunity member marketo support goal provid...\n",
       "130    job description trust estate probate paralegal...\n",
       "131    privacy counsel opportunity marketo seek priva...\n",
       "132    enterprise sales development representative op...\n",
       "133    job description staff software engineer market...\n",
       "135    technical account manager opportunity marketo ...\n",
       "137    job description special counsel assist client ...\n",
       "138    copywriter brand white house black market cate...\n",
       "139    job description hire commercial real estate pa...\n",
       "Name: value_processed_lemm, dtype: object"
      ]
     },
     "execution_count": 23,
     "metadata": {},
     "output_type": "execute_result"
    }
   ],
   "source": [
    "data_bal.value_processed_lemm.head(20)"
   ]
  },
  {
   "cell_type": "markdown",
   "metadata": {},
   "source": [
    "# Starting to Perform ML functions "
   ]
  },
  {
   "cell_type": "code",
   "execution_count": 24,
   "metadata": {},
   "outputs": [],
   "source": [
    "from sklearn.naive_bayes import MultinomialNB\n",
    "from sklearn.multiclass import OneVsRestClassifier\n",
    "from sklearn.svm import LinearSVC\n",
    "from sklearn.pipeline import Pipeline\n",
    "from sklearn.feature_extraction.text import CountVectorizer, TfidfVectorizer ,TfidfTransformer\n",
    "from sklearn.model_selection import train_test_split ,GridSearchCV\n",
    "from sklearn.metrics import classification_report,accuracy_score\n",
    "from sklearn.ensemble import RandomForestClassifier\n",
    "from sklearn.model_selection import RandomizedSearchCV\n"
   ]
  },
  {
   "cell_type": "code",
   "execution_count": 25,
   "metadata": {},
   "outputs": [],
   "source": [
    "X = data_bal.value_processed_lemm\n",
    "y = data_bal.subcatid\n",
    "X_train, X_test, y_train, y_test = train_test_split(X, y, test_size=0.3, random_state = 5)"
   ]
  },
  {
   "cell_type": "markdown",
   "metadata": {},
   "source": [
    "## Using NB"
   ]
  },
  {
   "cell_type": "code",
   "execution_count": 40,
   "metadata": {},
   "outputs": [
    {
     "name": "stdout",
     "output_type": "stream",
     "text": [
      "accuracy 0.540032302722658\n"
     ]
    }
   ],
   "source": [
    "\n",
    "nb = Pipeline([('vect', CountVectorizer()),\n",
    "               ('tfidf', TfidfTransformer()),\n",
    "               ('clf', MultinomialNB()),\n",
    "              ])\n",
    "\n",
    "nb.fit(X_train, y_train)\n",
    "\n",
    "y_pred = nb.predict(X_test)\n",
    "\n",
    "print('accuracy %s' % accuracy_score(y_pred, y_test))\n",
    "#print(classification_report(y_test, y_pred,target_names=sub_cat))"
   ]
  },
  {
   "cell_type": "markdown",
   "metadata": {},
   "source": [
    "## Using OVR With Linear SVC"
   ]
  },
  {
   "cell_type": "code",
   "execution_count": 42,
   "metadata": {},
   "outputs": [],
   "source": [
    "#preparing the final pipeline using the selected parameters\n",
    "model = Pipeline([('vectorizer', CountVectorizer(ngram_range=(1,2))),\n",
    "    ('tfidf', TfidfTransformer(use_idf=True)),\n",
    "    ('clf', OneVsRestClassifier(LinearSVC(class_weight=\"balanced\")))])"
   ]
  },
  {
   "cell_type": "code",
   "execution_count": 43,
   "metadata": {},
   "outputs": [
    {
     "name": "stderr",
     "output_type": "stream",
     "text": [
      "/usr/lib64/python3.6/site-packages/sklearn/svm/base.py:922: ConvergenceWarning: Liblinear failed to converge, increase the number of iterations.\n",
      "  \"the number of iterations.\", ConvergenceWarning)\n"
     ]
    },
    {
     "data": {
      "text/plain": [
       "Pipeline(memory=None,\n",
       "     steps=[('vectorizer', CountVectorizer(analyzer='word', binary=False, decode_error='strict',\n",
       "        dtype=<class 'numpy.int64'>, encoding='utf-8', input='content',\n",
       "        lowercase=True, max_df=1.0, max_features=None, min_df=1,\n",
       "        ngram_range=(1, 2), preprocessor=None, stop_words=None,\n",
       "       ..._class='ovr', penalty='l2', random_state=None, tol=0.0001,\n",
       "     verbose=0),\n",
       "          n_jobs=None))])"
      ]
     },
     "execution_count": 43,
     "metadata": {},
     "output_type": "execute_result"
    }
   ],
   "source": [
    "#fit model with training data\n",
    "model.fit(X_train, y_train)"
   ]
  },
  {
   "cell_type": "code",
   "execution_count": 44,
   "metadata": {},
   "outputs": [
    {
     "name": "stdout",
     "output_type": "stream",
     "text": [
      "accuracy 0.7913590216889709\n"
     ]
    }
   ],
   "source": [
    "y_pred = model.predict(X_test)\n",
    "print('accuracy %s' % accuracy_score(y_pred, y_test))"
   ]
  },
  {
   "cell_type": "markdown",
   "metadata": {},
   "source": [
    "# Using Random Forest Search and cross validation"
   ]
  },
  {
   "cell_type": "code",
   "execution_count": 26,
   "metadata": {},
   "outputs": [],
   "source": [
    "\n",
    "# Number of trees in random forest\n",
    "n_estimators = [int(x) for x in np.linspace(start = 100, stop = 200, num = 3)]\n",
    "# Maximum number of levels in tree\n",
    "max_depth = [int(x) for x in np.linspace(10, 150, num = 3)]\n",
    "#max_depth.append(None)\n",
    "# Minimum number of samples required to split a node\n",
    "min_samples_split = [2, 5, 10]\n",
    "# Minimum number of samples required at each leaf node\n",
    "min_samples_leaf = [1, 2, 4]\n",
    "\n",
    "\n",
    "\n",
    "# Create the random grid\n",
    "random_grid = {\n",
    "               'clf__n_estimators': n_estimators,\n",
    "               'clf__max_depth': max_depth,\n",
    "               'clf__min_samples_split': min_samples_split,\n",
    "               'clf__min_samples_leaf': min_samples_leaf\n",
    "              }"
   ]
  },
  {
   "cell_type": "code",
   "execution_count": 27,
   "metadata": {},
   "outputs": [],
   "source": [
    "#preparing the final pipeline using the selected parameters\n",
    "model = Pipeline([('vectorizer', CountVectorizer(ngram_range=(1,2))),\n",
    "    ('tfidf', TfidfTransformer(use_idf=True)),\n",
    "    ('clf', RandomForestClassifier(max_features='auto',bootstrap=False,random_state = 42))])"
   ]
  },
  {
   "cell_type": "code",
   "execution_count": 28,
   "metadata": {},
   "outputs": [
    {
     "name": "stderr",
     "output_type": "stream",
     "text": [
      "/home/sorta/.local/lib/python3.6/site-packages/sklearn/model_selection/_split.py:1943: FutureWarning: You should specify a value for 'cv' instead of relying on the default value. The default value will change from 3 to 5 in version 0.22.\n",
      "  warnings.warn(CV_WARNING, FutureWarning)\n"
     ]
    },
    {
     "data": {
      "text/plain": [
       "GridSearchCV(cv='warn', error_score='raise-deprecating',\n",
       "       estimator=Pipeline(memory=None,\n",
       "     steps=[('vectorizer', CountVectorizer(analyzer='word', binary=False, decode_error='strict',\n",
       "        dtype=<class 'numpy.int64'>, encoding='utf-8', input='content',\n",
       "        lowercase=True, max_df=1.0, max_features=None, min_df=1,\n",
       "        ngram_range=(1, 2), preprocessor=None, stop_words=None,\n",
       "       ...rs='warn', n_jobs=None,\n",
       "            oob_score=False, random_state=42, verbose=0, warm_start=False))]),\n",
       "       fit_params=None, iid='warn', n_jobs=-1,\n",
       "       param_grid={'clf__n_estimators': [100, 150, 200], 'clf__max_depth': [10, 80, 150], 'clf__min_samples_split': [2, 5, 10], 'clf__min_samples_leaf': [1, 2, 4]},\n",
       "       pre_dispatch='2*n_jobs', refit=True, return_train_score='warn',\n",
       "       scoring=None, verbose=0)"
      ]
     },
     "execution_count": 28,
     "metadata": {},
     "output_type": "execute_result"
    }
   ],
   "source": [
    "gs_clf_rfc = GridSearchCV(model, random_grid, n_jobs=-1)\n",
    "gs_clf_rfc.fit(X_train, y_train)"
   ]
  },
  {
   "cell_type": "code",
   "execution_count": 29,
   "metadata": {},
   "outputs": [
    {
     "data": {
      "text/plain": [
       "{'clf__max_depth': 150,\n",
       " 'clf__min_samples_leaf': 1,\n",
       " 'clf__min_samples_split': 10,\n",
       " 'clf__n_estimators': 200}"
      ]
     },
     "execution_count": 29,
     "metadata": {},
     "output_type": "execute_result"
    }
   ],
   "source": [
    "gs_clf_rfc.best_params_"
   ]
  },
  {
   "cell_type": "code",
   "execution_count": 36,
   "metadata": {},
   "outputs": [
    {
     "name": "stderr",
     "output_type": "stream",
     "text": [
      "/home/sorta/.local/lib/python3.6/site-packages/sklearn/utils/deprecation.py:125: FutureWarning: You are accessing a training score ('split0_train_score'), which will not be available by default any more in 0.21. If you need training scores, please set return_train_score=True\n",
      "  warnings.warn(*warn_args, **warn_kwargs)\n",
      "/home/sorta/.local/lib/python3.6/site-packages/sklearn/utils/deprecation.py:125: FutureWarning: You are accessing a training score ('split1_train_score'), which will not be available by default any more in 0.21. If you need training scores, please set return_train_score=True\n",
      "  warnings.warn(*warn_args, **warn_kwargs)\n",
      "/home/sorta/.local/lib/python3.6/site-packages/sklearn/utils/deprecation.py:125: FutureWarning: You are accessing a training score ('split2_train_score'), which will not be available by default any more in 0.21. If you need training scores, please set return_train_score=True\n",
      "  warnings.warn(*warn_args, **warn_kwargs)\n",
      "/home/sorta/.local/lib/python3.6/site-packages/sklearn/utils/deprecation.py:125: FutureWarning: You are accessing a training score ('mean_train_score'), which will not be available by default any more in 0.21. If you need training scores, please set return_train_score=True\n",
      "  warnings.warn(*warn_args, **warn_kwargs)\n",
      "/home/sorta/.local/lib/python3.6/site-packages/sklearn/utils/deprecation.py:125: FutureWarning: You are accessing a training score ('std_train_score'), which will not be available by default any more in 0.21. If you need training scores, please set return_train_score=True\n",
      "  warnings.warn(*warn_args, **warn_kwargs)\n"
     ]
    },
    {
     "data": {
      "text/plain": [
       "{'mean_fit_time': array([  61.84432673,   74.66871611,  116.25737397,  129.51862462,\n",
       "          99.22155786,  148.50928815,  149.46035838,  113.05130013,\n",
       "         143.80360524,  118.42192181,  122.21398203,  111.08038147,\n",
       "         109.00292842,  149.13972839,  130.27246412,  131.78524446,\n",
       "         137.88081328,   97.20574538,  146.4585429 ,  128.6593585 ,\n",
       "          89.6713233 ,  144.34886614,  148.82592098,  112.75055949,\n",
       "         148.63557514,  147.31376735,  102.08746028, 1564.91208037,\n",
       "        2430.9434247 , 2951.14470069,  796.18498611, 1008.36515888,\n",
       "        1283.36852058,  583.30671914,  675.77254836,  913.72642914,\n",
       "         464.60474205,  468.99130591,  572.99201353,  372.4047056 ,\n",
       "         411.32117542,  612.52490218,  410.38575435,  397.00025932,\n",
       "         523.92751773,  314.74550374,  269.78946662,  303.81510433,\n",
       "         240.52929449,  253.49071964,  298.86242175,  254.80712644,\n",
       "         247.57652545,  324.63128026, 2500.13183077, 3895.19055351,\n",
       "        4926.19967818, 1277.98979584, 1715.85838413, 2270.39231181,\n",
       "        1031.22034828, 1176.67109752, 1569.67708063,  676.28329468,\n",
       "         621.64829715,  813.90045905,  550.31464426,  569.05657903,\n",
       "         829.89467875,  487.00844566,  497.63344892,  694.98372293,\n",
       "         336.68837913,  293.80513223,  351.86976743,  272.19962351,\n",
       "         290.50558742,  360.07376814,  266.25730022,  282.81014522,\n",
       "         305.38239241]),\n",
       " 'std_fit_time': array([  3.65231571,   3.84512603,  54.32549387,  28.47242325,\n",
       "          3.37529356,  36.05455104,  25.17467039,   8.38292895,\n",
       "          6.49969632,   1.97834246,   5.89575019,   7.30099091,\n",
       "         13.92833186,  25.31484223,   6.12705421,  11.91382114,\n",
       "         30.27724233,   4.48707422,  34.24377776,  34.1550925 ,\n",
       "          3.71523687,  34.88933297,  14.44979599,   2.07725891,\n",
       "         16.68690082,  20.10179569,   3.5457232 , 178.06883523,\n",
       "        190.220921  ,  65.28463943,  90.36359623,  78.55064636,\n",
       "         64.8448891 ,  85.56056595,  37.50310681,  25.90713619,\n",
       "         86.47494502,  33.97886663,  17.33638163,   6.5640332 ,\n",
       "         42.66099474,  18.26696103,  57.49823542,  20.5939288 ,\n",
       "         13.48178334,  47.14188297,   1.30554692,  13.29976604,\n",
       "         21.36365601,   9.28681436,   2.80264002,   1.29958678,\n",
       "          5.20177573,   3.77716175, 301.64328731, 301.39450592,\n",
       "        236.83871512, 103.07761787, 104.94964925,  70.18188987,\n",
       "         72.99155491, 104.64856863,  17.09946488, 109.50485944,\n",
       "         11.05446334,  28.34359403,  26.20521659,  37.96259622,\n",
       "          4.71057567,  79.58114357,  28.1393764 ,   7.80159075,\n",
       "         64.66785614,  14.06997271,   8.42986868,  20.65240993,\n",
       "         15.28167886,  16.74802212,  33.21982402,   4.61757243,\n",
       "          3.18021342]),\n",
       " 'mean_score_time': array([ 64.11746979,  97.83229939,  86.47014276,  41.42858934,\n",
       "         98.71486441, 106.11849308,  47.20097248, 101.95414861,\n",
       "         76.01704621,  54.38384016, 103.84137861,  85.36750142,\n",
       "         72.47221502,  92.69228204,  94.13894025,  82.77455084,\n",
       "         52.62064036, 100.56027873,  60.10437489,  51.86473266,\n",
       "        113.74911952,  67.17942977,  59.89194775, 110.94288667,\n",
       "         69.2791241 ,  60.27503459, 115.31740395, 166.92072201,\n",
       "        182.84071795, 186.45348112, 143.52972007, 182.96335157,\n",
       "        157.78335317,  92.07071988, 193.84532324, 132.27079606,\n",
       "        118.35154541, 128.54456902, 150.14244326,  95.34169706,\n",
       "        150.96192559, 133.74271822,  89.73599863, 145.90313069,\n",
       "        114.24704186,  89.59340326, 107.52609475, 122.13557625,\n",
       "         77.55670261, 123.86707131, 110.40370178,  74.20118976,\n",
       "        107.72956769, 139.9241484 , 198.71871479, 219.61337384,\n",
       "        265.57195385, 180.46658389, 224.41053017, 220.33942819,\n",
       "        149.40316582, 201.89847088, 179.53707043, 141.28077356,\n",
       "        164.59099905, 167.28784513, 124.61135165, 182.63569578,\n",
       "        143.30029662,  99.11297766, 166.68836459, 112.1377085 ,\n",
       "        104.47377253, 113.29207389, 138.86019953,  80.23164527,\n",
       "        114.98741992, 135.05796361,  79.74245238, 103.22767536,\n",
       "         85.2985088 ]),\n",
       " 'std_score_time': array([ 8.49325712,  3.10142827, 22.51444195,  5.20720945,  9.03739793,\n",
       "        26.07244893,  4.98184045,  5.67785492,  1.51695995,  5.2036102 ,\n",
       "        32.75366683, 10.39244995,  2.92786935, 38.06407214,  9.43438647,\n",
       "         4.17443122,  9.33561585,  6.33103155, 18.94954547, 11.40079025,\n",
       "         3.83087323, 16.20993017,  7.14760434,  6.4564074 ,  5.44421566,\n",
       "         9.6259948 , 14.36089839, 14.9668521 , 19.48723483,  7.66396174,\n",
       "        17.37869374, 24.91407484, 20.28162254,  6.00119291, 12.32261263,\n",
       "        13.73279199, 25.08027574, 18.2000434 , 28.02128544, 12.31893874,\n",
       "        37.36429987, 14.83221693, 15.53627738, 37.70133363, 10.13479443,\n",
       "        19.45881323,  7.33628548, 22.48076337, 11.65664775, 10.91145194,\n",
       "         5.54641876, 17.15336625, 42.02397686,  3.92632517, 17.1231983 ,\n",
       "        11.93429897, 10.717811  , 14.03450883, 11.70795309, 42.0102677 ,\n",
       "        22.75335219, 19.88764297, 26.37268787, 31.81423859, 26.58089226,\n",
       "        49.16140788, 14.71125437, 18.21627987,  5.2804925 ,  3.65120319,\n",
       "        12.26524407, 34.30218853,  4.49420812,  8.1499201 , 10.74436969,\n",
       "        18.18441491, 25.91615045, 23.95250293,  6.5494906 ,  6.18607166,\n",
       "        20.29334348]),\n",
       " 'param_clf__max_depth': masked_array(data=[10, 10, 10, 10, 10, 10, 10, 10, 10, 10, 10, 10, 10, 10,\n",
       "                    10, 10, 10, 10, 10, 10, 10, 10, 10, 10, 10, 10, 10, 80,\n",
       "                    80, 80, 80, 80, 80, 80, 80, 80, 80, 80, 80, 80, 80, 80,\n",
       "                    80, 80, 80, 80, 80, 80, 80, 80, 80, 80, 80, 80, 150,\n",
       "                    150, 150, 150, 150, 150, 150, 150, 150, 150, 150, 150,\n",
       "                    150, 150, 150, 150, 150, 150, 150, 150, 150, 150, 150,\n",
       "                    150, 150, 150, 150],\n",
       "              mask=[False, False, False, False, False, False, False, False,\n",
       "                    False, False, False, False, False, False, False, False,\n",
       "                    False, False, False, False, False, False, False, False,\n",
       "                    False, False, False, False, False, False, False, False,\n",
       "                    False, False, False, False, False, False, False, False,\n",
       "                    False, False, False, False, False, False, False, False,\n",
       "                    False, False, False, False, False, False, False, False,\n",
       "                    False, False, False, False, False, False, False, False,\n",
       "                    False, False, False, False, False, False, False, False,\n",
       "                    False, False, False, False, False, False, False, False,\n",
       "                    False],\n",
       "        fill_value='?',\n",
       "             dtype=object),\n",
       " 'param_clf__min_samples_leaf': masked_array(data=[1, 1, 1, 1, 1, 1, 1, 1, 1, 2, 2, 2, 2, 2, 2, 2, 2, 2,\n",
       "                    4, 4, 4, 4, 4, 4, 4, 4, 4, 1, 1, 1, 1, 1, 1, 1, 1, 1,\n",
       "                    2, 2, 2, 2, 2, 2, 2, 2, 2, 4, 4, 4, 4, 4, 4, 4, 4, 4,\n",
       "                    1, 1, 1, 1, 1, 1, 1, 1, 1, 2, 2, 2, 2, 2, 2, 2, 2, 2,\n",
       "                    4, 4, 4, 4, 4, 4, 4, 4, 4],\n",
       "              mask=[False, False, False, False, False, False, False, False,\n",
       "                    False, False, False, False, False, False, False, False,\n",
       "                    False, False, False, False, False, False, False, False,\n",
       "                    False, False, False, False, False, False, False, False,\n",
       "                    False, False, False, False, False, False, False, False,\n",
       "                    False, False, False, False, False, False, False, False,\n",
       "                    False, False, False, False, False, False, False, False,\n",
       "                    False, False, False, False, False, False, False, False,\n",
       "                    False, False, False, False, False, False, False, False,\n",
       "                    False, False, False, False, False, False, False, False,\n",
       "                    False],\n",
       "        fill_value='?',\n",
       "             dtype=object),\n",
       " 'param_clf__min_samples_split': masked_array(data=[2, 2, 2, 5, 5, 5, 10, 10, 10, 2, 2, 2, 5, 5, 5, 10, 10,\n",
       "                    10, 2, 2, 2, 5, 5, 5, 10, 10, 10, 2, 2, 2, 5, 5, 5, 10,\n",
       "                    10, 10, 2, 2, 2, 5, 5, 5, 10, 10, 10, 2, 2, 2, 5, 5, 5,\n",
       "                    10, 10, 10, 2, 2, 2, 5, 5, 5, 10, 10, 10, 2, 2, 2, 5,\n",
       "                    5, 5, 10, 10, 10, 2, 2, 2, 5, 5, 5, 10, 10, 10],\n",
       "              mask=[False, False, False, False, False, False, False, False,\n",
       "                    False, False, False, False, False, False, False, False,\n",
       "                    False, False, False, False, False, False, False, False,\n",
       "                    False, False, False, False, False, False, False, False,\n",
       "                    False, False, False, False, False, False, False, False,\n",
       "                    False, False, False, False, False, False, False, False,\n",
       "                    False, False, False, False, False, False, False, False,\n",
       "                    False, False, False, False, False, False, False, False,\n",
       "                    False, False, False, False, False, False, False, False,\n",
       "                    False, False, False, False, False, False, False, False,\n",
       "                    False],\n",
       "        fill_value='?',\n",
       "             dtype=object),\n",
       " 'param_clf__n_estimators': masked_array(data=[100, 150, 200, 100, 150, 200, 100, 150, 200, 100, 150,\n",
       "                    200, 100, 150, 200, 100, 150, 200, 100, 150, 200, 100,\n",
       "                    150, 200, 100, 150, 200, 100, 150, 200, 100, 150, 200,\n",
       "                    100, 150, 200, 100, 150, 200, 100, 150, 200, 100, 150,\n",
       "                    200, 100, 150, 200, 100, 150, 200, 100, 150, 200, 100,\n",
       "                    150, 200, 100, 150, 200, 100, 150, 200, 100, 150, 200,\n",
       "                    100, 150, 200, 100, 150, 200, 100, 150, 200, 100, 150,\n",
       "                    200, 100, 150, 200],\n",
       "              mask=[False, False, False, False, False, False, False, False,\n",
       "                    False, False, False, False, False, False, False, False,\n",
       "                    False, False, False, False, False, False, False, False,\n",
       "                    False, False, False, False, False, False, False, False,\n",
       "                    False, False, False, False, False, False, False, False,\n",
       "                    False, False, False, False, False, False, False, False,\n",
       "                    False, False, False, False, False, False, False, False,\n",
       "                    False, False, False, False, False, False, False, False,\n",
       "                    False, False, False, False, False, False, False, False,\n",
       "                    False, False, False, False, False, False, False, False,\n",
       "                    False],\n",
       "        fill_value='?',\n",
       "             dtype=object),\n",
       " 'params': [{'clf__max_depth': 10,\n",
       "   'clf__min_samples_leaf': 1,\n",
       "   'clf__min_samples_split': 2,\n",
       "   'clf__n_estimators': 100},\n",
       "  {'clf__max_depth': 10,\n",
       "   'clf__min_samples_leaf': 1,\n",
       "   'clf__min_samples_split': 2,\n",
       "   'clf__n_estimators': 150},\n",
       "  {'clf__max_depth': 10,\n",
       "   'clf__min_samples_leaf': 1,\n",
       "   'clf__min_samples_split': 2,\n",
       "   'clf__n_estimators': 200},\n",
       "  {'clf__max_depth': 10,\n",
       "   'clf__min_samples_leaf': 1,\n",
       "   'clf__min_samples_split': 5,\n",
       "   'clf__n_estimators': 100},\n",
       "  {'clf__max_depth': 10,\n",
       "   'clf__min_samples_leaf': 1,\n",
       "   'clf__min_samples_split': 5,\n",
       "   'clf__n_estimators': 150},\n",
       "  {'clf__max_depth': 10,\n",
       "   'clf__min_samples_leaf': 1,\n",
       "   'clf__min_samples_split': 5,\n",
       "   'clf__n_estimators': 200},\n",
       "  {'clf__max_depth': 10,\n",
       "   'clf__min_samples_leaf': 1,\n",
       "   'clf__min_samples_split': 10,\n",
       "   'clf__n_estimators': 100},\n",
       "  {'clf__max_depth': 10,\n",
       "   'clf__min_samples_leaf': 1,\n",
       "   'clf__min_samples_split': 10,\n",
       "   'clf__n_estimators': 150},\n",
       "  {'clf__max_depth': 10,\n",
       "   'clf__min_samples_leaf': 1,\n",
       "   'clf__min_samples_split': 10,\n",
       "   'clf__n_estimators': 200},\n",
       "  {'clf__max_depth': 10,\n",
       "   'clf__min_samples_leaf': 2,\n",
       "   'clf__min_samples_split': 2,\n",
       "   'clf__n_estimators': 100},\n",
       "  {'clf__max_depth': 10,\n",
       "   'clf__min_samples_leaf': 2,\n",
       "   'clf__min_samples_split': 2,\n",
       "   'clf__n_estimators': 150},\n",
       "  {'clf__max_depth': 10,\n",
       "   'clf__min_samples_leaf': 2,\n",
       "   'clf__min_samples_split': 2,\n",
       "   'clf__n_estimators': 200},\n",
       "  {'clf__max_depth': 10,\n",
       "   'clf__min_samples_leaf': 2,\n",
       "   'clf__min_samples_split': 5,\n",
       "   'clf__n_estimators': 100},\n",
       "  {'clf__max_depth': 10,\n",
       "   'clf__min_samples_leaf': 2,\n",
       "   'clf__min_samples_split': 5,\n",
       "   'clf__n_estimators': 150},\n",
       "  {'clf__max_depth': 10,\n",
       "   'clf__min_samples_leaf': 2,\n",
       "   'clf__min_samples_split': 5,\n",
       "   'clf__n_estimators': 200},\n",
       "  {'clf__max_depth': 10,\n",
       "   'clf__min_samples_leaf': 2,\n",
       "   'clf__min_samples_split': 10,\n",
       "   'clf__n_estimators': 100},\n",
       "  {'clf__max_depth': 10,\n",
       "   'clf__min_samples_leaf': 2,\n",
       "   'clf__min_samples_split': 10,\n",
       "   'clf__n_estimators': 150},\n",
       "  {'clf__max_depth': 10,\n",
       "   'clf__min_samples_leaf': 2,\n",
       "   'clf__min_samples_split': 10,\n",
       "   'clf__n_estimators': 200},\n",
       "  {'clf__max_depth': 10,\n",
       "   'clf__min_samples_leaf': 4,\n",
       "   'clf__min_samples_split': 2,\n",
       "   'clf__n_estimators': 100},\n",
       "  {'clf__max_depth': 10,\n",
       "   'clf__min_samples_leaf': 4,\n",
       "   'clf__min_samples_split': 2,\n",
       "   'clf__n_estimators': 150},\n",
       "  {'clf__max_depth': 10,\n",
       "   'clf__min_samples_leaf': 4,\n",
       "   'clf__min_samples_split': 2,\n",
       "   'clf__n_estimators': 200},\n",
       "  {'clf__max_depth': 10,\n",
       "   'clf__min_samples_leaf': 4,\n",
       "   'clf__min_samples_split': 5,\n",
       "   'clf__n_estimators': 100},\n",
       "  {'clf__max_depth': 10,\n",
       "   'clf__min_samples_leaf': 4,\n",
       "   'clf__min_samples_split': 5,\n",
       "   'clf__n_estimators': 150},\n",
       "  {'clf__max_depth': 10,\n",
       "   'clf__min_samples_leaf': 4,\n",
       "   'clf__min_samples_split': 5,\n",
       "   'clf__n_estimators': 200},\n",
       "  {'clf__max_depth': 10,\n",
       "   'clf__min_samples_leaf': 4,\n",
       "   'clf__min_samples_split': 10,\n",
       "   'clf__n_estimators': 100},\n",
       "  {'clf__max_depth': 10,\n",
       "   'clf__min_samples_leaf': 4,\n",
       "   'clf__min_samples_split': 10,\n",
       "   'clf__n_estimators': 150},\n",
       "  {'clf__max_depth': 10,\n",
       "   'clf__min_samples_leaf': 4,\n",
       "   'clf__min_samples_split': 10,\n",
       "   'clf__n_estimators': 200},\n",
       "  {'clf__max_depth': 80,\n",
       "   'clf__min_samples_leaf': 1,\n",
       "   'clf__min_samples_split': 2,\n",
       "   'clf__n_estimators': 100},\n",
       "  {'clf__max_depth': 80,\n",
       "   'clf__min_samples_leaf': 1,\n",
       "   'clf__min_samples_split': 2,\n",
       "   'clf__n_estimators': 150},\n",
       "  {'clf__max_depth': 80,\n",
       "   'clf__min_samples_leaf': 1,\n",
       "   'clf__min_samples_split': 2,\n",
       "   'clf__n_estimators': 200},\n",
       "  {'clf__max_depth': 80,\n",
       "   'clf__min_samples_leaf': 1,\n",
       "   'clf__min_samples_split': 5,\n",
       "   'clf__n_estimators': 100},\n",
       "  {'clf__max_depth': 80,\n",
       "   'clf__min_samples_leaf': 1,\n",
       "   'clf__min_samples_split': 5,\n",
       "   'clf__n_estimators': 150},\n",
       "  {'clf__max_depth': 80,\n",
       "   'clf__min_samples_leaf': 1,\n",
       "   'clf__min_samples_split': 5,\n",
       "   'clf__n_estimators': 200},\n",
       "  {'clf__max_depth': 80,\n",
       "   'clf__min_samples_leaf': 1,\n",
       "   'clf__min_samples_split': 10,\n",
       "   'clf__n_estimators': 100},\n",
       "  {'clf__max_depth': 80,\n",
       "   'clf__min_samples_leaf': 1,\n",
       "   'clf__min_samples_split': 10,\n",
       "   'clf__n_estimators': 150},\n",
       "  {'clf__max_depth': 80,\n",
       "   'clf__min_samples_leaf': 1,\n",
       "   'clf__min_samples_split': 10,\n",
       "   'clf__n_estimators': 200},\n",
       "  {'clf__max_depth': 80,\n",
       "   'clf__min_samples_leaf': 2,\n",
       "   'clf__min_samples_split': 2,\n",
       "   'clf__n_estimators': 100},\n",
       "  {'clf__max_depth': 80,\n",
       "   'clf__min_samples_leaf': 2,\n",
       "   'clf__min_samples_split': 2,\n",
       "   'clf__n_estimators': 150},\n",
       "  {'clf__max_depth': 80,\n",
       "   'clf__min_samples_leaf': 2,\n",
       "   'clf__min_samples_split': 2,\n",
       "   'clf__n_estimators': 200},\n",
       "  {'clf__max_depth': 80,\n",
       "   'clf__min_samples_leaf': 2,\n",
       "   'clf__min_samples_split': 5,\n",
       "   'clf__n_estimators': 100},\n",
       "  {'clf__max_depth': 80,\n",
       "   'clf__min_samples_leaf': 2,\n",
       "   'clf__min_samples_split': 5,\n",
       "   'clf__n_estimators': 150},\n",
       "  {'clf__max_depth': 80,\n",
       "   'clf__min_samples_leaf': 2,\n",
       "   'clf__min_samples_split': 5,\n",
       "   'clf__n_estimators': 200},\n",
       "  {'clf__max_depth': 80,\n",
       "   'clf__min_samples_leaf': 2,\n",
       "   'clf__min_samples_split': 10,\n",
       "   'clf__n_estimators': 100},\n",
       "  {'clf__max_depth': 80,\n",
       "   'clf__min_samples_leaf': 2,\n",
       "   'clf__min_samples_split': 10,\n",
       "   'clf__n_estimators': 150},\n",
       "  {'clf__max_depth': 80,\n",
       "   'clf__min_samples_leaf': 2,\n",
       "   'clf__min_samples_split': 10,\n",
       "   'clf__n_estimators': 200},\n",
       "  {'clf__max_depth': 80,\n",
       "   'clf__min_samples_leaf': 4,\n",
       "   'clf__min_samples_split': 2,\n",
       "   'clf__n_estimators': 100},\n",
       "  {'clf__max_depth': 80,\n",
       "   'clf__min_samples_leaf': 4,\n",
       "   'clf__min_samples_split': 2,\n",
       "   'clf__n_estimators': 150},\n",
       "  {'clf__max_depth': 80,\n",
       "   'clf__min_samples_leaf': 4,\n",
       "   'clf__min_samples_split': 2,\n",
       "   'clf__n_estimators': 200},\n",
       "  {'clf__max_depth': 80,\n",
       "   'clf__min_samples_leaf': 4,\n",
       "   'clf__min_samples_split': 5,\n",
       "   'clf__n_estimators': 100},\n",
       "  {'clf__max_depth': 80,\n",
       "   'clf__min_samples_leaf': 4,\n",
       "   'clf__min_samples_split': 5,\n",
       "   'clf__n_estimators': 150},\n",
       "  {'clf__max_depth': 80,\n",
       "   'clf__min_samples_leaf': 4,\n",
       "   'clf__min_samples_split': 5,\n",
       "   'clf__n_estimators': 200},\n",
       "  {'clf__max_depth': 80,\n",
       "   'clf__min_samples_leaf': 4,\n",
       "   'clf__min_samples_split': 10,\n",
       "   'clf__n_estimators': 100},\n",
       "  {'clf__max_depth': 80,\n",
       "   'clf__min_samples_leaf': 4,\n",
       "   'clf__min_samples_split': 10,\n",
       "   'clf__n_estimators': 150},\n",
       "  {'clf__max_depth': 80,\n",
       "   'clf__min_samples_leaf': 4,\n",
       "   'clf__min_samples_split': 10,\n",
       "   'clf__n_estimators': 200},\n",
       "  {'clf__max_depth': 150,\n",
       "   'clf__min_samples_leaf': 1,\n",
       "   'clf__min_samples_split': 2,\n",
       "   'clf__n_estimators': 100},\n",
       "  {'clf__max_depth': 150,\n",
       "   'clf__min_samples_leaf': 1,\n",
       "   'clf__min_samples_split': 2,\n",
       "   'clf__n_estimators': 150},\n",
       "  {'clf__max_depth': 150,\n",
       "   'clf__min_samples_leaf': 1,\n",
       "   'clf__min_samples_split': 2,\n",
       "   'clf__n_estimators': 200},\n",
       "  {'clf__max_depth': 150,\n",
       "   'clf__min_samples_leaf': 1,\n",
       "   'clf__min_samples_split': 5,\n",
       "   'clf__n_estimators': 100},\n",
       "  {'clf__max_depth': 150,\n",
       "   'clf__min_samples_leaf': 1,\n",
       "   'clf__min_samples_split': 5,\n",
       "   'clf__n_estimators': 150},\n",
       "  {'clf__max_depth': 150,\n",
       "   'clf__min_samples_leaf': 1,\n",
       "   'clf__min_samples_split': 5,\n",
       "   'clf__n_estimators': 200},\n",
       "  {'clf__max_depth': 150,\n",
       "   'clf__min_samples_leaf': 1,\n",
       "   'clf__min_samples_split': 10,\n",
       "   'clf__n_estimators': 100},\n",
       "  {'clf__max_depth': 150,\n",
       "   'clf__min_samples_leaf': 1,\n",
       "   'clf__min_samples_split': 10,\n",
       "   'clf__n_estimators': 150},\n",
       "  {'clf__max_depth': 150,\n",
       "   'clf__min_samples_leaf': 1,\n",
       "   'clf__min_samples_split': 10,\n",
       "   'clf__n_estimators': 200},\n",
       "  {'clf__max_depth': 150,\n",
       "   'clf__min_samples_leaf': 2,\n",
       "   'clf__min_samples_split': 2,\n",
       "   'clf__n_estimators': 100},\n",
       "  {'clf__max_depth': 150,\n",
       "   'clf__min_samples_leaf': 2,\n",
       "   'clf__min_samples_split': 2,\n",
       "   'clf__n_estimators': 150},\n",
       "  {'clf__max_depth': 150,\n",
       "   'clf__min_samples_leaf': 2,\n",
       "   'clf__min_samples_split': 2,\n",
       "   'clf__n_estimators': 200},\n",
       "  {'clf__max_depth': 150,\n",
       "   'clf__min_samples_leaf': 2,\n",
       "   'clf__min_samples_split': 5,\n",
       "   'clf__n_estimators': 100},\n",
       "  {'clf__max_depth': 150,\n",
       "   'clf__min_samples_leaf': 2,\n",
       "   'clf__min_samples_split': 5,\n",
       "   'clf__n_estimators': 150},\n",
       "  {'clf__max_depth': 150,\n",
       "   'clf__min_samples_leaf': 2,\n",
       "   'clf__min_samples_split': 5,\n",
       "   'clf__n_estimators': 200},\n",
       "  {'clf__max_depth': 150,\n",
       "   'clf__min_samples_leaf': 2,\n",
       "   'clf__min_samples_split': 10,\n",
       "   'clf__n_estimators': 100},\n",
       "  {'clf__max_depth': 150,\n",
       "   'clf__min_samples_leaf': 2,\n",
       "   'clf__min_samples_split': 10,\n",
       "   'clf__n_estimators': 150},\n",
       "  {'clf__max_depth': 150,\n",
       "   'clf__min_samples_leaf': 2,\n",
       "   'clf__min_samples_split': 10,\n",
       "   'clf__n_estimators': 200},\n",
       "  {'clf__max_depth': 150,\n",
       "   'clf__min_samples_leaf': 4,\n",
       "   'clf__min_samples_split': 2,\n",
       "   'clf__n_estimators': 100},\n",
       "  {'clf__max_depth': 150,\n",
       "   'clf__min_samples_leaf': 4,\n",
       "   'clf__min_samples_split': 2,\n",
       "   'clf__n_estimators': 150},\n",
       "  {'clf__max_depth': 150,\n",
       "   'clf__min_samples_leaf': 4,\n",
       "   'clf__min_samples_split': 2,\n",
       "   'clf__n_estimators': 200},\n",
       "  {'clf__max_depth': 150,\n",
       "   'clf__min_samples_leaf': 4,\n",
       "   'clf__min_samples_split': 5,\n",
       "   'clf__n_estimators': 100},\n",
       "  {'clf__max_depth': 150,\n",
       "   'clf__min_samples_leaf': 4,\n",
       "   'clf__min_samples_split': 5,\n",
       "   'clf__n_estimators': 150},\n",
       "  {'clf__max_depth': 150,\n",
       "   'clf__min_samples_leaf': 4,\n",
       "   'clf__min_samples_split': 5,\n",
       "   'clf__n_estimators': 200},\n",
       "  {'clf__max_depth': 150,\n",
       "   'clf__min_samples_leaf': 4,\n",
       "   'clf__min_samples_split': 10,\n",
       "   'clf__n_estimators': 100},\n",
       "  {'clf__max_depth': 150,\n",
       "   'clf__min_samples_leaf': 4,\n",
       "   'clf__min_samples_split': 10,\n",
       "   'clf__n_estimators': 150},\n",
       "  {'clf__max_depth': 150,\n",
       "   'clf__min_samples_leaf': 4,\n",
       "   'clf__min_samples_split': 10,\n",
       "   'clf__n_estimators': 200}],\n",
       " 'split0_test_score': array([0.47183099, 0.4777613 , 0.47924388, 0.47716827, 0.48302446,\n",
       "        0.48346924, 0.4772424 , 0.48154188, 0.48035582, 0.47568569,\n",
       "        0.47798369, 0.47783543, 0.47509266, 0.47976279, 0.47739066,\n",
       "        0.47234989, 0.47657524, 0.47709414, 0.47123795, 0.47583395,\n",
       "        0.47605634, 0.47123795, 0.47583395, 0.47605634, 0.47057079,\n",
       "        0.47368421, 0.47546331, 0.70074129, 0.70400297, 0.70504077,\n",
       "        0.70192735, 0.70422535, 0.70303929, 0.70496664, 0.70726464,\n",
       "        0.70704225, 0.69251297, 0.69444033, 0.69495923, 0.69132691,\n",
       "        0.693106  , 0.69392142, 0.69332839, 0.69332839, 0.69362491,\n",
       "        0.66953299, 0.67242402, 0.67190511, 0.66953299, 0.67242402,\n",
       "        0.67190511, 0.6698295 , 0.66849518, 0.6698295 , 0.71045219,\n",
       "        0.71148999, 0.71297257, 0.71208302, 0.71319496, 0.71334322,\n",
       "        0.71237954, 0.71489993, 0.71578947, 0.70422535, 0.70422535,\n",
       "        0.70585619, 0.70155671, 0.70244626, 0.70355819, 0.69977761,\n",
       "        0.70111193, 0.70066716, 0.67375834, 0.67664937, 0.67583395,\n",
       "        0.67375834, 0.67664937, 0.67583395, 0.67524092, 0.67598221,\n",
       "        0.67501853]),\n",
       " 'split1_test_score': array([0.46877781, 0.47040937, 0.47048354, 0.47011273, 0.47048354,\n",
       "        0.46922278, 0.46885197, 0.46877781, 0.4690003 , 0.47100267,\n",
       "        0.47026105, 0.46885197, 0.47078018, 0.46981608, 0.4674429 ,\n",
       "        0.46736873, 0.46885197, 0.46766538, 0.46781371, 0.47033521,\n",
       "        0.46855532, 0.46781371, 0.47033521, 0.46855532, 0.46781371,\n",
       "        0.46966775, 0.46788787, 0.69371106, 0.69682587, 0.69764165,\n",
       "        0.69838327, 0.69823495, 0.69927321, 0.69504598, 0.69712252,\n",
       "        0.69756749, 0.68088104, 0.68169683, 0.68399585, 0.68051023,\n",
       "        0.68362504, 0.68414417, 0.68184515, 0.68095521, 0.68110353,\n",
       "        0.65670424, 0.65551765, 0.65588846, 0.65670424, 0.65551765,\n",
       "        0.65588846, 0.6558143 , 0.657965  , 0.65818748, 0.70083061,\n",
       "        0.70401958, 0.70194304, 0.70350044, 0.70706022, 0.70698606,\n",
       "        0.70305547, 0.70550282, 0.70654109, 0.69230199, 0.69385939,\n",
       "        0.69497182, 0.69415604, 0.69512014, 0.69385939, 0.69467517,\n",
       "        0.69437852, 0.6942302 , 0.66300801, 0.6641946 , 0.66619697,\n",
       "        0.66300801, 0.6641946 , 0.66619697, 0.66463957, 0.665752  ,\n",
       "        0.66656778]),\n",
       " 'split2_test_score': array([0.48330365, 0.4764767 , 0.47506679, 0.47818344, 0.47506679,\n",
       "        0.47610567, 0.47922232, 0.47558623, 0.47417631, 0.47870288,\n",
       "        0.47365687, 0.47328584, 0.47632829, 0.47432473, 0.47365687,\n",
       "        0.47907391, 0.47373108, 0.47417631, 0.47350846, 0.46972395,\n",
       "        0.4703176 , 0.47350846, 0.46972395, 0.4703176 , 0.47632829,\n",
       "        0.47387949, 0.47172752, 0.69946572, 0.70028198, 0.7016919 ,\n",
       "        0.70146928, 0.69976254, 0.70035619, 0.69909469, 0.70005936,\n",
       "        0.70005936, 0.68596023, 0.68581181, 0.68744435, 0.68603443,\n",
       "        0.68826061, 0.68766696, 0.68670229, 0.68707332, 0.68863164,\n",
       "        0.6609528 , 0.6609528 , 0.66110122, 0.6609528 , 0.6609528 ,\n",
       "        0.66110122, 0.66065598, 0.65902345, 0.65865242, 0.7054764 ,\n",
       "        0.70807361, 0.70725735, 0.70814782, 0.70978035, 0.70888988,\n",
       "        0.70473434, 0.7066637 , 0.70829623, 0.69968833, 0.69850104,\n",
       "        0.6993173 , 0.6992431 , 0.69983675, 0.70057881, 0.69672009,\n",
       "        0.69723954, 0.69842683, 0.66592461, 0.66622143, 0.66666667,\n",
       "        0.66592461, 0.66622143, 0.66666667, 0.66325319, 0.66644405,\n",
       "        0.66659246]),\n",
       " 'mean_test_score': array([0.47463535, 0.47488257, 0.47493201, 0.47515451, 0.47619283,\n",
       "        0.476267  , 0.47510507, 0.47530284, 0.47451174, 0.47512979,\n",
       "        0.47396786, 0.47332509, 0.47406675, 0.47463535, 0.47283066,\n",
       "        0.47292954, 0.47305315, 0.47297899, 0.4708529 , 0.47196539,\n",
       "        0.471644  , 0.4708529 , 0.47196539, 0.471644  , 0.47156984,\n",
       "        0.47241038, 0.47169345, 0.69797281, 0.70037083, 0.70145859,\n",
       "        0.70059333, 0.70074166, 0.70088999, 0.69970334, 0.70148331,\n",
       "        0.70155748, 0.68645241, 0.68731768, 0.68880099, 0.68595797,\n",
       "        0.68833127, 0.68857849, 0.68729295, 0.6871199 , 0.68778739,\n",
       "        0.66239802, 0.66296663, 0.66296663, 0.66239802, 0.66296663,\n",
       "        0.66296663, 0.66210136, 0.66182942, 0.66222497, 0.70558714,\n",
       "        0.70786156, 0.70739184, 0.707911  , 0.71001236, 0.70974042,\n",
       "        0.70672435, 0.70902349, 0.71021014, 0.69873918, 0.69886279,\n",
       "        0.70004944, 0.69831891, 0.69913473, 0.69933251, 0.6970581 ,\n",
       "        0.69757726, 0.69777503, 0.66756489, 0.66902349, 0.66956737,\n",
       "        0.66756489, 0.66902349, 0.66956737, 0.66771323, 0.66939431,\n",
       "        0.66939431]),\n",
       " 'std_test_score': array([0.00625245, 0.00320632, 0.00357815, 0.00358922, 0.00518199,\n",
       "        0.005818  , 0.00449504, 0.00521547, 0.00464256, 0.00316771,\n",
       "        0.00316084, 0.00366809, 0.00237815, 0.00406721, 0.00410348,\n",
       "        0.00479559, 0.00318964, 0.00394172, 0.00234049, 0.00274785,\n",
       "        0.00320297, 0.00234049, 0.00274785, 0.00320297, 0.00354675,\n",
       "        0.00194104, 0.00309317, 0.00305828, 0.00293111, 0.00302559,\n",
       "        0.00157395, 0.00254193, 0.00158331, 0.00407342, 0.00426162,\n",
       "        0.00401088, 0.00476208, 0.00531097, 0.00457794, 0.00441682,\n",
       "        0.00387144, 0.00404375, 0.0047072 , 0.00505213, 0.00514723,\n",
       "        0.0053367 , 0.00704816, 0.00667125, 0.0053367 , 0.00704816,\n",
       "        0.00667125, 0.00581294, 0.00473491, 0.00538256, 0.0039293 ,\n",
       "        0.00305388, 0.0045044 , 0.0035083 , 0.0025102 , 0.00266436,\n",
       "        0.00405858, 0.00418373, 0.00401115, 0.00491436, 0.00424018,\n",
       "        0.00447416, 0.00309152, 0.00303216, 0.00405685, 0.002097  ,\n",
       "        0.00275962, 0.00266831, 0.00453994, 0.00545739, 0.00443693,\n",
       "        0.00453994, 0.00545739, 0.00443693, 0.00535484, 0.00466863,\n",
       "        0.00397841]),\n",
       " 'rank_test_score': array([63, 62, 61, 58, 56, 55, 60, 57, 65, 59, 67, 68, 66, 63, 72, 71, 69,\n",
       "        70, 80, 74, 77, 80, 74, 77, 79, 73, 76, 24, 16, 12, 15, 14, 13, 18,\n",
       "        11, 10, 35, 32, 28, 36, 30, 29, 33, 34, 31, 50, 46, 46, 50, 46, 46,\n",
       "        53, 54, 52,  9,  6,  7,  5,  2,  3,  8,  4,  1, 22, 21, 17, 23, 20,\n",
       "        19, 27, 26, 25, 44, 41, 37, 44, 41, 37, 43, 39, 39], dtype=int32),\n",
       " 'split0_train_score': array([0.48505193, 0.49102374, 0.49102374, 0.48445846, 0.48994807,\n",
       "        0.49098665, 0.48408754, 0.49017062, 0.48753709, 0.47978487,\n",
       "        0.48282641, 0.48304896, 0.48119436, 0.4861276 , 0.48256677,\n",
       "        0.47566766, 0.48104599, 0.48171365, 0.47503709, 0.4787092 ,\n",
       "        0.47807864, 0.47503709, 0.4787092 , 0.47807864, 0.47210682,\n",
       "        0.47692878, 0.47781899, 0.99384273, 0.99410237, 0.99410237,\n",
       "        0.99113501, 0.99143175, 0.99161721, 0.98571958, 0.98575668,\n",
       "        0.98616469, 0.89339763, 0.89324926, 0.89406528, 0.89358309,\n",
       "        0.89373145, 0.89336053, 0.88508902, 0.88505193, 0.88545994,\n",
       "        0.77396142, 0.77318249, 0.77344214, 0.77396142, 0.77318249,\n",
       "        0.77344214, 0.7726632 , 0.77117953, 0.77210682, 0.99933234,\n",
       "        0.99929525, 0.99929525, 0.99788576, 0.99803412, 0.99807122,\n",
       "        0.99369436, 0.99391691, 0.99387982, 0.93560831, 0.93579377,\n",
       "        0.93605341, 0.93197329, 0.93212166, 0.93345697, 0.92555638,\n",
       "        0.92585312, 0.92674332, 0.79287834, 0.79373145, 0.79514095,\n",
       "        0.79287834, 0.79373145, 0.79514095, 0.78957715, 0.79239614,\n",
       "        0.79287834]),\n",
       " 'split1_train_score': array([0.49944374, 0.50066751, 0.499555  , 0.49821998, 0.49910999,\n",
       "        0.49677372, 0.49684788, 0.49799748, 0.49643996, 0.49432619,\n",
       "        0.49432619, 0.49347326, 0.49258325, 0.4933991 , 0.49095157,\n",
       "        0.49046948, 0.49191575, 0.49161908, 0.48995031, 0.49262034,\n",
       "        0.49024698, 0.48995031, 0.49262034, 0.49024698, 0.48668694,\n",
       "        0.48965364, 0.48894905, 0.99447452, 0.99462286, 0.99443744,\n",
       "        0.99113699, 0.9910999 , 0.99132241, 0.98624193, 0.9858711 ,\n",
       "        0.98616777, 0.89141882, 0.89208633, 0.89175258, 0.8889713 ,\n",
       "        0.88986131, 0.8910109 , 0.88266706, 0.88248164, 0.88251873,\n",
       "        0.77045168, 0.77026626, 0.76993251, 0.77045168, 0.77026626,\n",
       "        0.76993251, 0.76859749, 0.77000668, 0.77052585, 0.99944374,\n",
       "        0.99944374, 0.99944374, 0.99766372, 0.99762664, 0.99784914,\n",
       "        0.99358451, 0.99365868, 0.9938441 , 0.93350886, 0.93488096,\n",
       "        0.93517763, 0.93187718, 0.9325076 , 0.93328636, 0.92357042,\n",
       "        0.92505377, 0.92516502, 0.79125566, 0.79129274, 0.79236817,\n",
       "        0.79125566, 0.79129274, 0.79236817, 0.79003189, 0.79151524,\n",
       "        0.79066232]),\n",
       " 'split2_train_score': array([0.5069326 , 0.49962927, 0.49766442, 0.50177949, 0.4987766 ,\n",
       "        0.49762734, 0.50063024, 0.4967376 , 0.49458738, 0.49696004,\n",
       "        0.49421665, 0.49151034, 0.49421665, 0.49340105, 0.49091718,\n",
       "        0.49803514, 0.49228887, 0.48913769, 0.49058352, 0.4881738 ,\n",
       "        0.48502261, 0.49058352, 0.4881738 , 0.48502261, 0.49314154,\n",
       "        0.489805  , 0.48620894, 0.99410543, 0.99410543, 0.99406836,\n",
       "        0.99147327, 0.99128791, 0.9914362 , 0.98598651, 0.98598651,\n",
       "        0.98609772, 0.89315637, 0.89300808, 0.89267443, 0.89174761,\n",
       "        0.89171054, 0.89041299, 0.88218284, 0.8821087 , 0.88173797,\n",
       "        0.76874027, 0.7687032 , 0.76977831, 0.76874027, 0.7687032 ,\n",
       "        0.76977831, 0.7693705 , 0.77007489, 0.77107585, 0.99899904,\n",
       "        0.99911025, 0.99911025, 0.99729369, 0.99736784, 0.99740491,\n",
       "        0.99332691, 0.99343813, 0.99362349, 0.93338029, 0.93367687,\n",
       "        0.93434418, 0.93004375, 0.93260176, 0.93315786, 0.92233262,\n",
       "        0.92374138, 0.92429747, 0.78757322, 0.78872247, 0.78964929,\n",
       "        0.78757322, 0.78872247, 0.78964929, 0.78553422, 0.78820346,\n",
       "        0.78883369]),\n",
       " 'mean_train_score': array([0.49714276, 0.49710684, 0.49608105, 0.49481931, 0.49594489,\n",
       "        0.49512924, 0.49385522, 0.49496857, 0.49285481, 0.49035703,\n",
       "        0.49045642, 0.48934419, 0.48933142, 0.49097591, 0.48814517,\n",
       "        0.48805743, 0.48841687, 0.48749014, 0.48519031, 0.48650111,\n",
       "        0.48444941, 0.48519031, 0.48650111, 0.48444941, 0.48397844,\n",
       "        0.48546247, 0.48432566, 0.9941409 , 0.99427689, 0.99420273,\n",
       "        0.99124842, 0.99127319, 0.9914586 , 0.98598267, 0.98587143,\n",
       "        0.98614339, 0.89265761, 0.89278122, 0.89283076, 0.891434  ,\n",
       "        0.89176777, 0.89159481, 0.88331298, 0.88321409, 0.88323888,\n",
       "        0.77105112, 0.77071732, 0.77105098, 0.77105112, 0.77071732,\n",
       "        0.77105098, 0.7702104 , 0.77042036, 0.77123617, 0.99925837,\n",
       "        0.99928308, 0.99928308, 0.99761439, 0.9976762 , 0.99777509,\n",
       "        0.99353526, 0.99367124, 0.99378247, 0.93416582, 0.93478387,\n",
       "        0.93519174, 0.93129807, 0.93241034, 0.9333004 , 0.92381981,\n",
       "        0.92488276, 0.92540194, 0.79056907, 0.79124889, 0.79238614,\n",
       "        0.79056907, 0.79124889, 0.79238614, 0.78838109, 0.79070495,\n",
       "        0.79079145]),\n",
       " 'std_train_score': array([9.07971601e-03, 4.32223464e-03, 3.65840329e-03, 7.46895712e-03,\n",
       "        4.24257294e-03, 2.94990982e-03, 7.07729956e-03, 3.43142554e-03,\n",
       "        3.83550240e-03, 7.55258331e-03, 5.39541539e-03, 4.52295492e-03,\n",
       "        5.79228316e-03, 3.42827890e-03, 3.94455346e-03, 9.28940770e-03,\n",
       "        5.21422201e-03, 4.20833953e-03, 7.18406064e-03, 5.80105443e-03,\n",
       "        4.98421268e-03, 7.18406064e-03, 5.80105443e-03, 4.98421268e-03,\n",
       "        8.79836503e-03, 6.03454610e-03, 4.73494801e-03, 2.59144596e-04,\n",
       "        2.44640472e-04, 1.66548027e-04, 1.58992397e-04, 1.35875283e-04,\n",
       "        1.21391946e-04, 2.13265582e-04, 9.38275716e-05, 3.23174878e-05,\n",
       "        8.81472191e-04, 5.01130999e-04, 9.50607200e-04, 1.89576954e-03,\n",
       "        1.58049912e-03, 1.27219330e-03, 1.27131701e-03, 1.30843702e-03,\n",
       "        1.60254605e-03, 2.17326443e-03, 1.85627106e-03, 1.69197237e-03,\n",
       "        2.17326443e-03, 1.85627106e-03, 1.69197237e-03, 1.76287109e-03,\n",
       "        5.37530991e-04, 6.55311755e-04, 1.88935405e-04, 1.36418219e-04,\n",
       "        1.36418219e-04, 2.44214478e-04, 2.74259418e-04, 2.77013399e-04,\n",
       "        1.54002382e-04, 1.95666154e-04, 1.13358613e-04, 1.02134224e-03,\n",
       "        8.66941340e-04, 6.97861227e-04, 8.87810624e-04, 2.07716537e-04,\n",
       "        1.22516903e-04, 1.32785709e-03, 8.70551952e-04, 1.01247053e-03,\n",
       "        2.21955285e-03, 2.04514279e-03, 2.24199585e-03, 2.21955285e-03,\n",
       "        2.04514279e-03, 2.24199585e-03, 2.02158266e-03, 1.80500973e-03,\n",
       "        1.65374282e-03])}"
      ]
     },
     "execution_count": 36,
     "metadata": {},
     "output_type": "execute_result"
    }
   ],
   "source": [
    "gs_clf_rfc.cv_results_"
   ]
  },
  {
   "cell_type": "code",
   "execution_count": 31,
   "metadata": {},
   "outputs": [
    {
     "data": {
      "text/plain": [
       "0.7102101359703338"
      ]
     },
     "execution_count": 31,
     "metadata": {},
     "output_type": "execute_result"
    }
   ],
   "source": [
    "gs_clf_rfc.best_score_"
   ]
  },
  {
   "cell_type": "code",
   "execution_count": 35,
   "metadata": {},
   "outputs": [
    {
     "name": "stdout",
     "output_type": "stream",
     "text": [
      "accuracy 0.7195431472081218\n",
      "CPU times: user 21.3 s, sys: 74.1 ms, total: 21.3 s\n",
      "Wall time: 22.2 s\n"
     ]
    }
   ],
   "source": [
    "%%time\n",
    "model = gs_clf_rfc.best_estimator_\n",
    "y_pred = model.predict(X_test)\n",
    "print('accuracy %s' % accuracy_score(y_pred, y_test))"
   ]
  }
 ],
 "metadata": {
  "kernelspec": {
   "display_name": "Python 3",
   "language": "python",
   "name": "python3"
  },
  "language_info": {
   "codemirror_mode": {
    "name": "ipython",
    "version": 3
   },
   "file_extension": ".py",
   "mimetype": "text/x-python",
   "name": "python",
   "nbconvert_exporter": "python",
   "pygments_lexer": "ipython3",
   "version": "3.6.6"
  }
 },
 "nbformat": 4,
 "nbformat_minor": 2
}
