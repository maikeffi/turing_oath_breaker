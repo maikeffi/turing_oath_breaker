{
 "cells": [
  {
   "cell_type": "code",
   "execution_count": 25,
   "metadata": {},
   "outputs": [
    {
     "name": "stderr",
     "output_type": "stream",
     "text": [
      "Warming up PyWSD (takes ~10 secs)... took 3.694720506668091 secs.\n"
     ]
    }
   ],
   "source": [
    "from sklearn.externals.joblib import Parallel, delayed\n",
    "from math import sqrt\n",
    "from time import sleep\n",
    "from heapq import nlargest\n",
    "import pandas as pd\n",
    "import re\n",
    "import nltk\n",
    "from collections import Counter\n",
    "import matplotlib.pyplot as plt\n",
    "import numpy as np\n",
    "import nltk \n",
    "nltk.data.path.append(\"/var/lib/docker/nltk_data\")\n",
    "from nltk.corpus import stopwords\n",
    "from nltk.tokenize import word_tokenize\n",
    "from nltk.stem import PorterStemmer\n",
    "from nltk.stem import WordNetLemmatizer\n",
    "import seaborn as sns\n",
    "from textblob import TextBlob\n",
    "from textblob import Word\n",
    "from pywsd.utils import lemmatize_sentence\n",
    "\n"
   ]
  },
  {
   "cell_type": "code",
   "execution_count": 22,
   "metadata": {},
   "outputs": [],
   "source": [
    "def clean_str(s):\n",
    "    \"\"\"Clean sentence\"\"\"\n",
    "    s = re.sub(r\"[^A-Za-z0-9(),!?\\'\\`]\", \" \", s)\n",
    "    s = re.sub(r\"\\'s\", \" \\'s\", s)\n",
    "    s = re.sub(r\"\\'ve\", \" \\'ve\", s)\n",
    "    s = re.sub(r\"n\\'t\", \" n\\'t\", s)\n",
    "    s = re.sub(r\"\\'re\", \" \\'re\", s)\n",
    "    s = re.sub(r\"\\'d\", \" \\'d\", s)\n",
    "    s = re.sub(r\"\\'ll\", \" \\'ll\", s)\n",
    "    s = re.sub(r\",\", \" , \", s)\n",
    "    s = re.sub(r\"!\", \" ! \", s)\n",
    "    s = re.sub(r\"\\(\", \" \\( \", s)\n",
    "    s = re.sub(r\"\\)\", \" \\) \", s)\n",
    "    s = re.sub(r\"\\?\", \" \\? \", s)\n",
    "    s = re.sub(r\"\\s{2,}\", \" \", s)\n",
    "    s = re.sub(r'\\S*(x{2,}|X{2,})\\S*',\"xxx\", s)\n",
    "    s = re.sub(r'[^\\x00-\\x7F]+', \"\", s)\n",
    "    s = re.sub(r'[^\\w\\s]',\"\",s)\n",
    "    return s.strip().lower()"
   ]
  },
  {
   "cell_type": "code",
   "execution_count": 29,
   "metadata": {},
   "outputs": [],
   "source": [
    "stop_words = set(stopwords.words('english'))\n",
    "stop_words.add('The')\n",
    "stop_words.add('This')\n",
    "ps = PorterStemmer()\n",
    "lemmatizer = WordNetLemmatizer()"
   ]
  },
  {
   "cell_type": "code",
   "execution_count": 27,
   "metadata": {},
   "outputs": [],
   "source": [
    "def perform_lemm(sentence):\n",
    "    word_tokens = word_tokenize(sentence)\n",
    "    lemm_sentence = [lemmatizer.lemmatize(w,pos='v') for w in word_tokens]\n",
    "    return ' '.join(lemm_sentence)"
   ]
  },
  {
   "cell_type": "code",
   "execution_count": 19,
   "metadata": {},
   "outputs": [],
   "source": [
    "data = pd.read_csv('data/ads_en_us.csv')"
   ]
  },
  {
   "cell_type": "code",
   "execution_count": 23,
   "metadata": {},
   "outputs": [
    {
     "name": "stderr",
     "output_type": "stream",
     "text": [
      "[Parallel(n_jobs=-1)]: Using backend LokyBackend with 8 concurrent workers.\n",
      "[Parallel(n_jobs=-1)]: Done   2 tasks      | elapsed:    0.6s\n",
      "[Parallel(n_jobs=-1)]: Done   9 tasks      | elapsed:    0.7s\n",
      "[Parallel(n_jobs=-1)]: Done  16 tasks      | elapsed:    0.7s\n",
      "[Parallel(n_jobs=-1)]: Batch computation too fast (0.1789s.) Setting batch_size=2.\n",
      "[Parallel(n_jobs=-1)]: Done  25 tasks      | elapsed:    0.7s\n",
      "[Parallel(n_jobs=-1)]: Done  34 tasks      | elapsed:    0.7s\n",
      "[Parallel(n_jobs=-1)]: Batch computation too fast (0.0066s.) Setting batch_size=120.\n",
      "[Parallel(n_jobs=-1)]: Done  55 tasks      | elapsed:    0.7s\n",
      "[Parallel(n_jobs=-1)]: Batch computation too fast (0.1330s.) Setting batch_size=360.\n",
      "[Parallel(n_jobs=-1)]: Done 666 tasks      | elapsed:    0.9s\n",
      "[Parallel(n_jobs=-1)]: Done 2706 tasks      | elapsed:    1.4s\n",
      "[Parallel(n_jobs=-1)]: Done 7386 tasks      | elapsed:    2.0s\n",
      "[Parallel(n_jobs=-1)]: Done 12786 tasks      | elapsed:    2.9s\n",
      "[Parallel(n_jobs=-1)]: Done 18186 tasks      | elapsed:    3.8s\n",
      "[Parallel(n_jobs=-1)]: Done 24306 tasks      | elapsed:    4.9s\n",
      "[Parallel(n_jobs=-1)]: Done 30426 tasks      | elapsed:    6.0s\n",
      "[Parallel(n_jobs=-1)]: Done 37266 tasks      | elapsed:    7.0s\n",
      "[Parallel(n_jobs=-1)]: Done 44106 tasks      | elapsed:    8.1s\n",
      "[Parallel(n_jobs=-1)]: Done 51666 tasks      | elapsed:    9.3s\n",
      "[Parallel(n_jobs=-1)]: Done 59226 tasks      | elapsed:   10.6s\n",
      "[Parallel(n_jobs=-1)]: Done 67506 tasks      | elapsed:   12.0s\n",
      "[Parallel(n_jobs=-1)]: Done 75786 tasks      | elapsed:   13.5s\n",
      "[Parallel(n_jobs=-1)]: Done 84786 tasks      | elapsed:   15.0s\n"
     ]
    },
    {
     "name": "stdout",
     "output_type": "stream",
     "text": [
      "CPU times: user 1.32 s, sys: 384 ms, total: 1.7 s\n",
      "Wall time: 17.1 s\n"
     ]
    },
    {
     "name": "stderr",
     "output_type": "stream",
     "text": [
      "[Parallel(n_jobs=-1)]: Done 97601 out of 97601 | elapsed:   17.0s finished\n"
     ]
    }
   ],
   "source": [
    "%%time\n",
    "data['value_clean'] = Parallel(n_jobs=-1, verbose=10)(delayed(clean_str)(i) for i in data['value'].tolist())"
   ]
  },
  {
   "cell_type": "code",
   "execution_count": 30,
   "metadata": {},
   "outputs": [
    {
     "name": "stderr",
     "output_type": "stream",
     "text": [
      "[Parallel(n_jobs=-1)]: Using backend LokyBackend with 8 concurrent workers.\n",
      "[Parallel(n_jobs=-1)]: Done   2 tasks      | elapsed:    3.2s\n",
      "[Parallel(n_jobs=-1)]: Done   9 tasks      | elapsed:    3.3s\n",
      "[Parallel(n_jobs=-1)]: Done  16 tasks      | elapsed:    3.3s\n",
      "[Parallel(n_jobs=-1)]: Done  25 tasks      | elapsed:    3.3s\n",
      "[Parallel(n_jobs=-1)]: Batch computation too fast (0.1685s.) Setting batch_size=2.\n",
      "[Parallel(n_jobs=-1)]: Done  34 tasks      | elapsed:    3.3s\n",
      "[Parallel(n_jobs=-1)]: Batch computation too fast (0.0268s.) Setting batch_size=28.\n",
      "[Parallel(n_jobs=-1)]: Done  53 tasks      | elapsed:    3.4s\n",
      "[Parallel(n_jobs=-1)]: Batch computation too fast (0.0707s.) Setting batch_size=158.\n",
      "[Parallel(n_jobs=-1)]: Done 176 tasks      | elapsed:    3.6s\n",
      "[Parallel(n_jobs=-1)]: Done 1033 tasks      | elapsed:    4.3s\n",
      "[Parallel(n_jobs=-1)]: Done 3087 tasks      | elapsed:    5.3s\n",
      "[Parallel(n_jobs=-1)]: Done 5457 tasks      | elapsed:    6.4s\n",
      "[Parallel(n_jobs=-1)]: Done 7827 tasks      | elapsed:    7.6s\n",
      "[Parallel(n_jobs=-1)]: Done 10513 tasks      | elapsed:    9.0s\n",
      "[Parallel(n_jobs=-1)]: Done 13199 tasks      | elapsed:   10.5s\n",
      "[Parallel(n_jobs=-1)]: Done 16201 tasks      | elapsed:   12.1s\n",
      "[Parallel(n_jobs=-1)]: Done 19203 tasks      | elapsed:   13.8s\n",
      "[Parallel(n_jobs=-1)]: Done 22521 tasks      | elapsed:   15.4s\n",
      "[Parallel(n_jobs=-1)]: Done 25839 tasks      | elapsed:   17.5s\n",
      "[Parallel(n_jobs=-1)]: Done 29473 tasks      | elapsed:   19.5s\n",
      "[Parallel(n_jobs=-1)]: Done 33107 tasks      | elapsed:   21.4s\n",
      "[Parallel(n_jobs=-1)]: Done 37057 tasks      | elapsed:   23.5s\n",
      "[Parallel(n_jobs=-1)]: Done 41007 tasks      | elapsed:   26.2s\n",
      "[Parallel(n_jobs=-1)]: Done 45273 tasks      | elapsed:   27.6s\n",
      "[Parallel(n_jobs=-1)]: Done 49539 tasks      | elapsed:   29.8s\n",
      "[Parallel(n_jobs=-1)]: Done 54121 tasks      | elapsed:   32.6s\n",
      "[Parallel(n_jobs=-1)]: Done 58703 tasks      | elapsed:   35.1s\n",
      "[Parallel(n_jobs=-1)]: Done 63601 tasks      | elapsed:   38.1s\n",
      "[Parallel(n_jobs=-1)]: Done 68499 tasks      | elapsed:   40.5s\n",
      "[Parallel(n_jobs=-1)]: Done 73713 tasks      | elapsed:   43.5s\n",
      "[Parallel(n_jobs=-1)]: Done 78927 tasks      | elapsed:   46.9s\n",
      "[Parallel(n_jobs=-1)]: Done 84457 tasks      | elapsed:   49.7s\n",
      "[Parallel(n_jobs=-1)]: Done 89987 tasks      | elapsed:   52.8s\n"
     ]
    },
    {
     "name": "stdout",
     "output_type": "stream",
     "text": [
      "CPU times: user 1.79 s, sys: 376 ms, total: 2.17 s\n",
      "Wall time: 56.6 s\n"
     ]
    },
    {
     "name": "stderr",
     "output_type": "stream",
     "text": [
      "[Parallel(n_jobs=-1)]: Done 97601 out of 97601 | elapsed:   56.5s finished\n"
     ]
    }
   ],
   "source": [
    "%%time\n",
    "data['value_clean_lemm'] = Parallel(n_jobs=-1, verbose=10)(delayed(perform_lemm)(i) for i in data['value_clean'].tolist())"
   ]
  },
  {
   "cell_type": "code",
   "execution_count": 34,
   "metadata": {},
   "outputs": [
    {
     "name": "stdout",
     "output_type": "stream",
     "text": [
      "CPU times: user 4min 3s, sys: 133 ms, total: 4min 3s\n",
      "Wall time: 4min 3s\n"
     ]
    }
   ],
   "source": [
    "%%time\n",
    "data['value_processed_lemm'] = data.value_clean.apply(perform_lemm)"
   ]
  },
  {
   "cell_type": "code",
   "execution_count": 31,
   "metadata": {},
   "outputs": [
    {
     "data": {
      "text/html": [
       "<div>\n",
       "<style scoped>\n",
       "    .dataframe tbody tr th:only-of-type {\n",
       "        vertical-align: middle;\n",
       "    }\n",
       "\n",
       "    .dataframe tbody tr th {\n",
       "        vertical-align: top;\n",
       "    }\n",
       "\n",
       "    .dataframe thead th {\n",
       "        text-align: right;\n",
       "    }\n",
       "</style>\n",
       "<table border=\"1\" class=\"dataframe\">\n",
       "  <thead>\n",
       "    <tr style=\"text-align: right;\">\n",
       "      <th></th>\n",
       "      <th>Unnamed: 0</th>\n",
       "      <th>catid</th>\n",
       "      <th>id</th>\n",
       "      <th>subcatid</th>\n",
       "      <th>value</th>\n",
       "      <th>value_clean</th>\n",
       "      <th>value_clean_lemm</th>\n",
       "    </tr>\n",
       "  </thead>\n",
       "  <tbody>\n",
       "    <tr>\n",
       "      <th>0</th>\n",
       "      <td>0</td>\n",
       "      <td>2</td>\n",
       "      <td>45493</td>\n",
       "      <td>27</td>\n",
       "      <td>Overview \\r\\n \\r\\nWhy AFFIRMA Rehabilitation? ...</td>\n",
       "      <td>overview why affirma rehabilitation  our innov...</td>\n",
       "      <td>overview why affirma rehabilitation our innova...</td>\n",
       "    </tr>\n",
       "    <tr>\n",
       "      <th>1</th>\n",
       "      <td>1</td>\n",
       "      <td>2</td>\n",
       "      <td>45499</td>\n",
       "      <td>27</td>\n",
       "      <td>Overview \\r\\n \\r\\nWhy AFFIRMA Rehabilitation? ...</td>\n",
       "      <td>overview why affirma rehabilitation  our innov...</td>\n",
       "      <td>overview why affirma rehabilitation our innova...</td>\n",
       "    </tr>\n",
       "    <tr>\n",
       "      <th>2</th>\n",
       "      <td>2</td>\n",
       "      <td>2</td>\n",
       "      <td>45522</td>\n",
       "      <td>27</td>\n",
       "      <td>Overview:\\r\\n\\r\\nUnder general supervision by ...</td>\n",
       "      <td>overview under general supervision by the supe...</td>\n",
       "      <td>overview under general supervision by the supe...</td>\n",
       "    </tr>\n",
       "    <tr>\n",
       "      <th>3</th>\n",
       "      <td>3</td>\n",
       "      <td>2</td>\n",
       "      <td>45543</td>\n",
       "      <td>134</td>\n",
       "      <td>Be your own boss working under a Strong Brand ...</td>\n",
       "      <td>be your own boss working under a strong brand ...</td>\n",
       "      <td>be your own boss work under a strong brand wit...</td>\n",
       "    </tr>\n",
       "    <tr>\n",
       "      <th>4</th>\n",
       "      <td>4</td>\n",
       "      <td>2</td>\n",
       "      <td>45545</td>\n",
       "      <td>134</td>\n",
       "      <td>Be your own boss working under a Strong Brand ...</td>\n",
       "      <td>be your own boss working under a strong brand ...</td>\n",
       "      <td>be your own boss work under a strong brand wit...</td>\n",
       "    </tr>\n",
       "    <tr>\n",
       "      <th>5</th>\n",
       "      <td>5</td>\n",
       "      <td>2</td>\n",
       "      <td>45546</td>\n",
       "      <td>134</td>\n",
       "      <td>Be your own boss working under a Strong Brand ...</td>\n",
       "      <td>be your own boss working under a strong brand ...</td>\n",
       "      <td>be your own boss work under a strong brand wit...</td>\n",
       "    </tr>\n",
       "    <tr>\n",
       "      <th>6</th>\n",
       "      <td>6</td>\n",
       "      <td>2</td>\n",
       "      <td>45549</td>\n",
       "      <td>134</td>\n",
       "      <td>Be your own boss working under a Strong Brand ...</td>\n",
       "      <td>be your own boss working under a strong brand ...</td>\n",
       "      <td>be your own boss work under a strong brand wit...</td>\n",
       "    </tr>\n",
       "    <tr>\n",
       "      <th>7</th>\n",
       "      <td>7</td>\n",
       "      <td>2</td>\n",
       "      <td>45550</td>\n",
       "      <td>134</td>\n",
       "      <td>Be your own boss working under a Strong Brand ...</td>\n",
       "      <td>be your own boss working under a strong brand ...</td>\n",
       "      <td>be your own boss work under a strong brand wit...</td>\n",
       "    </tr>\n",
       "    <tr>\n",
       "      <th>8</th>\n",
       "      <td>8</td>\n",
       "      <td>2</td>\n",
       "      <td>45552</td>\n",
       "      <td>134</td>\n",
       "      <td>Be your own boss working under a Strong Brand ...</td>\n",
       "      <td>be your own boss working under a strong brand ...</td>\n",
       "      <td>be your own boss work under a strong brand wit...</td>\n",
       "    </tr>\n",
       "    <tr>\n",
       "      <th>9</th>\n",
       "      <td>9</td>\n",
       "      <td>2</td>\n",
       "      <td>45553</td>\n",
       "      <td>134</td>\n",
       "      <td>Be your own boss working under a Strong Brand ...</td>\n",
       "      <td>be your own boss working under a strong brand ...</td>\n",
       "      <td>be your own boss work under a strong brand wit...</td>\n",
       "    </tr>\n",
       "  </tbody>\n",
       "</table>\n",
       "</div>"
      ],
      "text/plain": [
       "   Unnamed: 0  catid     id  subcatid  \\\n",
       "0           0      2  45493        27   \n",
       "1           1      2  45499        27   \n",
       "2           2      2  45522        27   \n",
       "3           3      2  45543       134   \n",
       "4           4      2  45545       134   \n",
       "5           5      2  45546       134   \n",
       "6           6      2  45549       134   \n",
       "7           7      2  45550       134   \n",
       "8           8      2  45552       134   \n",
       "9           9      2  45553       134   \n",
       "\n",
       "                                               value  \\\n",
       "0  Overview \\r\\n \\r\\nWhy AFFIRMA Rehabilitation? ...   \n",
       "1  Overview \\r\\n \\r\\nWhy AFFIRMA Rehabilitation? ...   \n",
       "2  Overview:\\r\\n\\r\\nUnder general supervision by ...   \n",
       "3  Be your own boss working under a Strong Brand ...   \n",
       "4  Be your own boss working under a Strong Brand ...   \n",
       "5  Be your own boss working under a Strong Brand ...   \n",
       "6  Be your own boss working under a Strong Brand ...   \n",
       "7  Be your own boss working under a Strong Brand ...   \n",
       "8  Be your own boss working under a Strong Brand ...   \n",
       "9  Be your own boss working under a Strong Brand ...   \n",
       "\n",
       "                                         value_clean  \\\n",
       "0  overview why affirma rehabilitation  our innov...   \n",
       "1  overview why affirma rehabilitation  our innov...   \n",
       "2  overview under general supervision by the supe...   \n",
       "3  be your own boss working under a strong brand ...   \n",
       "4  be your own boss working under a strong brand ...   \n",
       "5  be your own boss working under a strong brand ...   \n",
       "6  be your own boss working under a strong brand ...   \n",
       "7  be your own boss working under a strong brand ...   \n",
       "8  be your own boss working under a strong brand ...   \n",
       "9  be your own boss working under a strong brand ...   \n",
       "\n",
       "                                    value_clean_lemm  \n",
       "0  overview why affirma rehabilitation our innova...  \n",
       "1  overview why affirma rehabilitation our innova...  \n",
       "2  overview under general supervision by the supe...  \n",
       "3  be your own boss work under a strong brand wit...  \n",
       "4  be your own boss work under a strong brand wit...  \n",
       "5  be your own boss work under a strong brand wit...  \n",
       "6  be your own boss work under a strong brand wit...  \n",
       "7  be your own boss work under a strong brand wit...  \n",
       "8  be your own boss work under a strong brand wit...  \n",
       "9  be your own boss work under a strong brand wit...  "
      ]
     },
     "execution_count": 31,
     "metadata": {},
     "output_type": "execute_result"
    }
   ],
   "source": [
    "data.head(10)"
   ]
  },
  {
   "cell_type": "code",
   "execution_count": 2,
   "metadata": {},
   "outputs": [
    {
     "data": {
      "text/plain": [
       "[0.0, 1.0, 2.0, 3.0, 4.0, 5.0, 6.0, 7.0, 8.0, 9.0]"
      ]
     },
     "execution_count": 2,
     "metadata": {},
     "output_type": "execute_result"
    }
   ],
   "source": [
    "Parallel(n_jobs=1)(delayed(sqrt)(i**2) for i in range(10))"
   ]
  },
  {
   "cell_type": "code",
   "execution_count": 16,
   "metadata": {},
   "outputs": [
    {
     "name": "stderr",
     "output_type": "stream",
     "text": [
      "[Parallel(n_jobs=-1)]: Using backend LokyBackend with 8 concurrent workers.\n",
      "[Parallel(n_jobs=-1)]: Done   3 out of  16 | elapsed:    0.5s remaining:    2.2s\n",
      "[Parallel(n_jobs=-1)]: Done   5 out of  16 | elapsed:    0.5s remaining:    1.1s\n",
      "[Parallel(n_jobs=-1)]: Done   7 out of  16 | elapsed:    0.5s remaining:    0.7s\n",
      "[Parallel(n_jobs=-1)]: Done   9 out of  16 | elapsed:    1.0s remaining:    0.8s\n",
      "[Parallel(n_jobs=-1)]: Done  11 out of  16 | elapsed:    1.0s remaining:    0.5s\n",
      "[Parallel(n_jobs=-1)]: Done  13 out of  16 | elapsed:    1.0s remaining:    0.2s\n",
      "[Parallel(n_jobs=-1)]: Done  16 out of  16 | elapsed:    1.0s finished\n"
     ]
    }
   ],
   "source": [
    "r = g(n_jobs=-1, verbose=10)(delayed(sleep)(.5) for _ in range(16))"
   ]
  },
  {
   "cell_type": "code",
   "execution_count": 8,
   "metadata": {},
   "outputs": [],
   "source": [
    "def producer():\n",
    "    for i in range(6):\n",
    "        print('Produced %s' % i)\n",
    "        yield i"
   ]
  },
  {
   "cell_type": "code",
   "execution_count": 12,
   "metadata": {},
   "outputs": [
    {
     "name": "stdout",
     "output_type": "stream",
     "text": [
      "[Parallel(n_jobs=-1)]: Using backend LokyBackend with 8 concurrent workers.\n",
      "Produced 0\n",
      "Produced 1\n",
      "Produced 2\n",
      "Produced 3\n",
      "Produced 4\n",
      "Produced 5\n",
      "[Parallel(n_jobs=-1)]: Done   1 tasks      | elapsed:    0.5s\n",
      "[Parallel(n_jobs=-1)]: Done   2 out of   6 | elapsed:    0.5s remaining:    1.1s\n",
      "[Parallel(n_jobs=-1)]: Done   3 out of   6 | elapsed:    0.6s remaining:    0.6s\n",
      "[Parallel(n_jobs=-1)]: Done   4 out of   6 | elapsed:    0.6s remaining:    0.3s\n",
      "[Parallel(n_jobs=-1)]: Done   6 out of   6 | elapsed:    0.6s remaining:    0.0s\n",
      "[Parallel(n_jobs=-1)]: Done   6 out of   6 | elapsed:    0.6s finished\n"
     ]
    }
   ],
   "source": [
    "out = Parallel(n_jobs=-1, verbose=100, pre_dispatch='1.5*n_jobs')(delayed(sqrt)(i) for i in producer()) #doctest: +SKIP"
   ]
  },
  {
   "cell_type": "code",
   "execution_count": 11,
   "metadata": {},
   "outputs": [
    {
     "name": "stdout",
     "output_type": "stream",
     "text": [
      "[0.0, 1.0, 1.4142135623730951, 1.7320508075688772, 2.0, 2.23606797749979]\n"
     ]
    }
   ],
   "source": [
    "print(out)"
   ]
  }
 ],
 "metadata": {
  "kernelspec": {
   "display_name": "Python 3",
   "language": "python",
   "name": "python3"
  },
  "language_info": {
   "codemirror_mode": {
    "name": "ipython",
    "version": 3
   },
   "file_extension": ".py",
   "mimetype": "text/x-python",
   "name": "python",
   "nbconvert_exporter": "python",
   "pygments_lexer": "ipython3",
   "version": "3.6.6"
  }
 },
 "nbformat": 4,
 "nbformat_minor": 2
}
