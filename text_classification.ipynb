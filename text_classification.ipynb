{
 "cells": [
  {
   "cell_type": "code",
   "execution_count": 1,
   "metadata": {},
   "outputs": [
    {
     "name": "stderr",
     "output_type": "stream",
     "text": [
      "Warming up PyWSD (takes ~10 secs)... took 3.522925615310669 secs.\n"
     ]
    }
   ],
   "source": [
    "import re\n",
    "import pandas as pd\n",
    "import nltk\n",
    "from collections import Counter\n",
    "import matplotlib.pyplot as plt\n",
    "import numpy as np\n",
    "import nltk \n",
    "nltk.data.path.append(\"/var/lib/docker/nltk_data\")\n",
    "from nltk.corpus import stopwords\n",
    "from nltk.tokenize import word_tokenize\n",
    "from nltk.stem import PorterStemmer\n",
    "from nltk.stem import WordNetLemmatizer\n",
    "import seaborn as sns\n",
    "from textblob import TextBlob\n",
    "from textblob import Word\n",
    "from pywsd.utils import lemmatize_sentence"
   ]
  },
  {
   "cell_type": "code",
   "execution_count": 2,
   "metadata": {},
   "outputs": [],
   "source": [
    "data = pd.read_csv('data/ads_en_us.csv')"
   ]
  },
  {
   "cell_type": "code",
   "execution_count": 3,
   "metadata": {},
   "outputs": [
    {
     "data": {
      "text/html": [
       "<div>\n",
       "<style scoped>\n",
       "    .dataframe tbody tr th:only-of-type {\n",
       "        vertical-align: middle;\n",
       "    }\n",
       "\n",
       "    .dataframe tbody tr th {\n",
       "        vertical-align: top;\n",
       "    }\n",
       "\n",
       "    .dataframe thead th {\n",
       "        text-align: right;\n",
       "    }\n",
       "</style>\n",
       "<table border=\"1\" class=\"dataframe\">\n",
       "  <thead>\n",
       "    <tr style=\"text-align: right;\">\n",
       "      <th></th>\n",
       "      <th>Unnamed: 0</th>\n",
       "      <th>catid</th>\n",
       "      <th>id</th>\n",
       "      <th>subcatid</th>\n",
       "      <th>value</th>\n",
       "    </tr>\n",
       "  </thead>\n",
       "  <tbody>\n",
       "    <tr>\n",
       "      <th>0</th>\n",
       "      <td>0</td>\n",
       "      <td>2</td>\n",
       "      <td>45493</td>\n",
       "      <td>27</td>\n",
       "      <td>Overview \\r\\n \\r\\nWhy AFFIRMA Rehabilitation? ...</td>\n",
       "    </tr>\n",
       "    <tr>\n",
       "      <th>1</th>\n",
       "      <td>1</td>\n",
       "      <td>2</td>\n",
       "      <td>45499</td>\n",
       "      <td>27</td>\n",
       "      <td>Overview \\r\\n \\r\\nWhy AFFIRMA Rehabilitation? ...</td>\n",
       "    </tr>\n",
       "    <tr>\n",
       "      <th>2</th>\n",
       "      <td>2</td>\n",
       "      <td>2</td>\n",
       "      <td>45522</td>\n",
       "      <td>27</td>\n",
       "      <td>Overview:\\r\\n\\r\\nUnder general supervision by ...</td>\n",
       "    </tr>\n",
       "    <tr>\n",
       "      <th>3</th>\n",
       "      <td>3</td>\n",
       "      <td>2</td>\n",
       "      <td>45543</td>\n",
       "      <td>134</td>\n",
       "      <td>Be your own boss working under a Strong Brand ...</td>\n",
       "    </tr>\n",
       "    <tr>\n",
       "      <th>4</th>\n",
       "      <td>4</td>\n",
       "      <td>2</td>\n",
       "      <td>45545</td>\n",
       "      <td>134</td>\n",
       "      <td>Be your own boss working under a Strong Brand ...</td>\n",
       "    </tr>\n",
       "  </tbody>\n",
       "</table>\n",
       "</div>"
      ],
      "text/plain": [
       "   Unnamed: 0  catid     id  subcatid  \\\n",
       "0           0      2  45493        27   \n",
       "1           1      2  45499        27   \n",
       "2           2      2  45522        27   \n",
       "3           3      2  45543       134   \n",
       "4           4      2  45545       134   \n",
       "\n",
       "                                               value  \n",
       "0  Overview \\r\\n \\r\\nWhy AFFIRMA Rehabilitation? ...  \n",
       "1  Overview \\r\\n \\r\\nWhy AFFIRMA Rehabilitation? ...  \n",
       "2  Overview:\\r\\n\\r\\nUnder general supervision by ...  \n",
       "3  Be your own boss working under a Strong Brand ...  \n",
       "4  Be your own boss working under a Strong Brand ...  "
      ]
     },
     "execution_count": 3,
     "metadata": {},
     "output_type": "execute_result"
    }
   ],
   "source": [
    "data.head()"
   ]
  },
  {
   "cell_type": "code",
   "execution_count": 4,
   "metadata": {},
   "outputs": [
    {
     "data": {
      "text/plain": [
       "Counter({2: 95005, 3: 2596})"
      ]
     },
     "execution_count": 4,
     "metadata": {},
     "output_type": "execute_result"
    }
   ],
   "source": [
    "Counter(data[\"catid\"])"
   ]
  },
  {
   "cell_type": "code",
   "execution_count": 5,
   "metadata": {},
   "outputs": [
    {
     "data": {
      "image/png": "[encoded data removed]",
      "text/plain": [
       "<Figure size 432x288 with 1 Axes>"
      ]
     },
     "metadata": {
      "needs_background": "light"
     },
     "output_type": "display_data"
    }
   ],
   "source": [
    "fax = sns.countplot(x=\"subcatid\", data=data)\n",
    "plt.show()"
   ]
  },
  {
   "cell_type": "markdown",
   "metadata": {},
   "source": [
    "## Remove Duplicates in value fields "
   ]
  },
  {
   "cell_type": "code",
   "execution_count": 3,
   "metadata": {},
   "outputs": [],
   "source": [
    "data = data.drop_duplicates(subset='value',keep='last')"
   ]
  },
  {
   "cell_type": "code",
   "execution_count": 7,
   "metadata": {},
   "outputs": [
    {
     "data": {
      "image/png": "[encoded data removed]",
      "text/plain": [
       "<Figure size 576x432 with 1 Axes>"
      ]
     },
     "metadata": {
      "needs_background": "light"
     },
     "output_type": "display_data"
    }
   ],
   "source": [
    "fig = plt.figure(figsize=(8,6))\n",
    "fax = sns.countplot(x=\"subcatid\", data=data)\n",
    "plt.show()"
   ]
  },
  {
   "cell_type": "markdown",
   "metadata": {},
   "source": [
    "# Handling skewness"
   ]
  },
  {
   "cell_type": "markdown",
   "metadata": {},
   "source": [
    "## Keeping Data that has count > 100"
   ]
  },
  {
   "cell_type": "code",
   "execution_count": 4,
   "metadata": {},
   "outputs": [],
   "source": [
    "data_27 = data.loc[data.subcatid == 27, :]\n",
    "data_27s = data_27.sample(frac=0.5)\n",
    "data1 = data[data.subcatid != 27]\n",
    "data_s = pd.concat([data1, data_27s], axis = 0 )\n",
    "data_bal=data_s.groupby('subcatid').filter(lambda x: len(x) >= 100)"
   ]
  },
  {
   "cell_type": "code",
   "execution_count": 9,
   "metadata": {},
   "outputs": [
    {
     "data": {
      "image/png": "[encoded data removed]",
      "text/plain": [
       "<Figure size 576x432 with 1 Axes>"
      ]
     },
     "metadata": {
      "needs_background": "light"
     },
     "output_type": "display_data"
    }
   ],
   "source": [
    "fig = plt.figure(figsize=(8,6))\n",
    "fax = sns.countplot(x=\"subcatid\", data=data_s)\n",
    "plt.show()"
   ]
  },
  {
   "cell_type": "code",
   "execution_count": 5,
   "metadata": {},
   "outputs": [],
   "source": [
    "def clean_str(s):\n",
    "    \"\"\"Clean sentence\"\"\"\n",
    "    s = re.sub(r\"[^A-Za-z0-9(),!?\\'\\`]\", \" \", s)\n",
    "    s = re.sub(r\"\\'s\", \" \\'s\", s)\n",
    "    s = re.sub(r\"\\'ve\", \" \\'ve\", s)\n",
    "    s = re.sub(r\"n\\'t\", \" n\\'t\", s)\n",
    "    s = re.sub(r\"\\'re\", \" \\'re\", s)\n",
    "    s = re.sub(r\"\\'d\", \" \\'d\", s)\n",
    "    s = re.sub(r\"\\'ll\", \" \\'ll\", s)\n",
    "    s = re.sub(r\",\", \" , \", s)\n",
    "    s = re.sub(r\"!\", \" ! \", s)\n",
    "    s = re.sub(r\"\\(\", \" \\( \", s)\n",
    "    s = re.sub(r\"\\)\", \" \\) \", s)\n",
    "    s = re.sub(r\"\\?\", \" \\? \", s)\n",
    "    s = re.sub(r\"\\s{2,}\", \" \", s)\n",
    "    s = re.sub(r'\\S*(x{2,}|X{2,})\\S*',\"xxx\", s)\n",
    "    s = re.sub(r'[^\\x00-\\x7F]+', \"\", s)\n",
    "    s = re.sub(r'[^\\w\\s]',\"\",s)\n",
    "    return s.strip().lower()"
   ]
  },
  {
   "cell_type": "code",
   "execution_count": 6,
   "metadata": {},
   "outputs": [
    {
     "name": "stdout",
     "output_type": "stream",
     "text": [
      "CPU times: user 54.1 s, sys: 417 ms, total: 54.5 s\n",
      "Wall time: 54.6 s\n"
     ]
    },
    {
     "name": "stderr",
     "output_type": "stream",
     "text": [
      "/home/sorta/.local/lib/python3.6/site-packages/ipykernel_launcher.py:1: SettingWithCopyWarning: \n",
      "A value is trying to be set on a copy of a slice from a DataFrame.\n",
      "Try using .loc[row_indexer,col_indexer] = value instead\n",
      "\n",
      "See the caveats in the documentation: http://pandas.pydata.org/pandas-docs/stable/indexing.html#indexing-view-versus-copy\n",
      "  \"\"\"Entry point for launching an IPython kernel.\n"
     ]
    }
   ],
   "source": [
    "%%time\n",
    "data_bal['value_processed'] = data_bal.value.apply(clean_str)"
   ]
  },
  {
   "cell_type": "code",
   "execution_count": 13,
   "metadata": {},
   "outputs": [],
   "source": [
    "data_bal=data_s.groupby('subcatid').filter(lambda x: len(x) >= 100)"
   ]
  },
  {
   "cell_type": "code",
   "execution_count": 12,
   "metadata": {},
   "outputs": [
    {
     "data": {
      "text/plain": [
       "57     job description job description i am pleased t...\n",
       "106    procurement contracts manager the opportunity ...\n",
       "107    director  technical accounting and revenue rec...\n",
       "113    software engineering lead architect as a softw...\n",
       "118    be your own boss working under a strong brand ...\n",
       "Name: value_processed, dtype: object"
      ]
     },
     "execution_count": 12,
     "metadata": {},
     "output_type": "execute_result"
    }
   ],
   "source": [
    "data_bal.value_processed.head()"
   ]
  },
  {
   "cell_type": "code",
   "execution_count": 15,
   "metadata": {},
   "outputs": [
    {
     "data": {
      "image/png": "[encoded data removed]",
      "text/plain": [
       "<Figure size 432x288 with 1 Axes>"
      ]
     },
     "metadata": {
      "needs_background": "light"
     },
     "output_type": "display_data"
    }
   ],
   "source": [
    "fax = sns.countplot(x=\"subcatid\", data=data_bal)\n",
    "plt.show()"
   ]
  },
  {
   "cell_type": "markdown",
   "metadata": {},
   "source": [
    "## Remove Stop words "
   ]
  },
  {
   "cell_type": "code",
   "execution_count": 8,
   "metadata": {},
   "outputs": [],
   "source": [
    "stop_words = set(stopwords.words('english'))\n",
    "stop_words.add('The')\n",
    "stop_words.add('This')\n",
    "ps = PorterStemmer()\n",
    "lemmatizer = WordNetLemmatizer()"
   ]
  },
  {
   "cell_type": "code",
   "execution_count": 9,
   "metadata": {},
   "outputs": [],
   "source": [
    "def remove_stop_words(sentence):\n",
    "    word_tokens = word_tokenize(sentence)\n",
    "    filtered_sentence = [w for w in word_tokens if not w in stop_words]\n",
    "    sentence = ' '.join(filtered_sentence)\n",
    "    return sentence"
   ]
  },
  {
   "cell_type": "code",
   "execution_count": 10,
   "metadata": {},
   "outputs": [],
   "source": [
    "def perform_lemm(sentence):\n",
    "    word_tokens = word_tokenize(sentence)\n",
    "    lemm_sentence = [lemmatizer.lemmatize(w,pos='v') for w in word_tokens]\n",
    "    return ' '.join(lemm_sentence)"
   ]
  },
  {
   "cell_type": "code",
   "execution_count": 11,
   "metadata": {},
   "outputs": [
    {
     "name": "stdout",
     "output_type": "stream",
     "text": [
      "CPU times: user 1min 22s, sys: 53.7 ms, total: 1min 22s\n",
      "Wall time: 1min 22s\n"
     ]
    },
    {
     "name": "stderr",
     "output_type": "stream",
     "text": [
      "/home/sorta/.local/lib/python3.6/site-packages/ipykernel_launcher.py:1: SettingWithCopyWarning: \n",
      "A value is trying to be set on a copy of a slice from a DataFrame.\n",
      "Try using .loc[row_indexer,col_indexer] = value instead\n",
      "\n",
      "See the caveats in the documentation: http://pandas.pydata.org/pandas-docs/stable/indexing.html#indexing-view-versus-copy\n",
      "  \"\"\"Entry point for launching an IPython kernel.\n"
     ]
    }
   ],
   "source": [
    "%%time\n",
    "data_bal['value_processed'] = data_bal.value_processed.apply(remove_stop_words)"
   ]
  },
  {
   "cell_type": "code",
   "execution_count": 12,
   "metadata": {},
   "outputs": [
    {
     "name": "stdout",
     "output_type": "stream",
     "text": [
      "CPU times: user 1min 50s, sys: 7.11 ms, total: 1min 50s\n",
      "Wall time: 1min 50s\n"
     ]
    },
    {
     "name": "stderr",
     "output_type": "stream",
     "text": [
      "/home/sorta/.local/lib/python3.6/site-packages/ipykernel_launcher.py:1: SettingWithCopyWarning: \n",
      "A value is trying to be set on a copy of a slice from a DataFrame.\n",
      "Try using .loc[row_indexer,col_indexer] = value instead\n",
      "\n",
      "See the caveats in the documentation: http://pandas.pydata.org/pandas-docs/stable/indexing.html#indexing-view-versus-copy\n",
      "  \"\"\"Entry point for launching an IPython kernel.\n"
     ]
    }
   ],
   "source": [
    "%%time\n",
    "data_bal['value_processed_lemm'] = data_bal.value_processed.apply(perform_lemm)"
   ]
  },
  {
   "cell_type": "code",
   "execution_count": 19,
   "metadata": {},
   "outputs": [
    {
     "data": {
      "text/plain": [
       "57     job description job description pleased call a...\n",
       "106    procurement contracts manager opportunity mark...\n",
       "107    director technical accounting revenue recognit...\n",
       "113    software engineering lead architect software e...\n",
       "118    boss working strong brand track record success...\n",
       "119    usa truck dedicated services division truck dr...\n",
       "120    cynergistek cynergistek top ranked cybersecuri...\n",
       "124    job description director technical accounting ...\n",
       "125    job description enterprise sales development r...\n",
       "127    technical revenue recognition manager opportun...\n",
       "128    senior staff engineer security opportunity loo...\n",
       "129    opportunity member marketo support goal provid...\n",
       "130    job description trust estate probate paralegal...\n",
       "131    privacy counsel opportunity marketo seeking pr...\n",
       "132    enterprise sales development representative op...\n",
       "133    job description staff software engineer market...\n",
       "135    technical accounting manager opportunity marke...\n",
       "137    job description special counsel assisting clie...\n",
       "138    copywriter brand white house black market cate...\n",
       "139    job description hiring commercial real estate ...\n",
       "Name: value_processed, dtype: object"
      ]
     },
     "execution_count": 19,
     "metadata": {},
     "output_type": "execute_result"
    }
   ],
   "source": [
    "data_bal.value_processed.head(20)"
   ]
  },
  {
   "cell_type": "code",
   "execution_count": 23,
   "metadata": {},
   "outputs": [
    {
     "data": {
      "text/plain": [
       "57     job description job description please call at...\n",
       "106    procurement contract manager opportunity marke...\n",
       "107    director technical account revenue recognition...\n",
       "113    software engineer lead architect software engi...\n",
       "118    boss work strong brand track record success ca...\n",
       "119    usa truck dedicate service division truck driv...\n",
       "120    cynergistek cynergistek top rank cybersecurity...\n",
       "124    job description director technical account rev...\n",
       "125    job description enterprise sales development r...\n",
       "127    technical revenue recognition manager opportun...\n",
       "128    senior staff engineer security opportunity loo...\n",
       "129    opportunity member marketo support goal provid...\n",
       "130    job description trust estate probate paralegal...\n",
       "131    privacy counsel opportunity marketo seek priva...\n",
       "132    enterprise sales development representative op...\n",
       "133    job description staff software engineer market...\n",
       "135    technical account manager opportunity marketo ...\n",
       "137    job description special counsel assist client ...\n",
       "138    copywriter brand white house black market cate...\n",
       "139    job description hire commercial real estate pa...\n",
       "Name: value_processed_lemm, dtype: object"
      ]
     },
     "execution_count": 23,
     "metadata": {},
     "output_type": "execute_result"
    }
   ],
   "source": [
    "data_bal.value_processed_lemm.head(20)"
   ]
  },
  {
   "cell_type": "markdown",
   "metadata": {},
   "source": [
    "# Starting to Perform ML functions "
   ]
  },
  {
   "cell_type": "code",
   "execution_count": 13,
   "metadata": {},
   "outputs": [],
   "source": [
    "from sklearn.naive_bayes import MultinomialNB\n",
    "from sklearn.multiclass import OneVsRestClassifier\n",
    "from sklearn.svm import LinearSVC\n",
    "from sklearn.pipeline import Pipeline\n",
    "from sklearn.feature_extraction.text import CountVectorizer, TfidfVectorizer ,TfidfTransformer\n",
    "from sklearn.model_selection import train_test_split,GridSearchCV\n",
    "from sklearn.metrics import classification_report,accuracy_score\n",
    "from sklearn.ensemble import RandomForestClassifier\n",
    "from sklearn.model_selection import RandomizedSearchCV\n",
    "from dask_ml.model_selection import GridSearchCV as dgs\n"
   ]
  },
  {
   "cell_type": "code",
   "execution_count": 14,
   "metadata": {},
   "outputs": [],
   "source": [
    "X = data_bal.value_processed_lemm\n",
    "y = data_bal.subcatid\n",
    "X_train, X_test, y_train, y_test = train_test_split(X, y, test_size=0.3, random_state = 5)"
   ]
  },
  {
   "cell_type": "markdown",
   "metadata": {},
   "source": [
    "## Using NB"
   ]
  },
  {
   "cell_type": "code",
   "execution_count": 40,
   "metadata": {},
   "outputs": [
    {
     "name": "stdout",
     "output_type": "stream",
     "text": [
      "accuracy 0.540032302722658\n"
     ]
    }
   ],
   "source": [
    "\n",
    "nb = Pipeline([('vect', CountVectorizer()),\n",
    "               ('tfidf', TfidfTransformer()),\n",
    "               ('clf', MultinomialNB()),\n",
    "              ])\n",
    "\n",
    "nb.fit(X_train, y_train)\n",
    "\n",
    "y_pred = nb.predict(X_test)\n",
    "\n",
    "print('accuracy %s' % accuracy_score(y_pred, y_test))\n",
    "#print(classification_report(y_test, y_pred,target_names=sub_cat))"
   ]
  },
  {
   "cell_type": "markdown",
   "metadata": {},
   "source": [
    "## Using OVR With Linear SVC"
   ]
  },
  {
   "cell_type": "code",
   "execution_count": 42,
   "metadata": {},
   "outputs": [],
   "source": [
    "#preparing the final pipeline using the selected parameters\n",
    "model = Pipeline([('vectorizer', CountVectorizer(ngram_range=(1,2))),\n",
    "    ('tfidf', TfidfTransformer(use_idf=True)),\n",
    "    ('clf', OneVsRestClassifier(LinearSVC(class_weight=\"balanced\")))])"
   ]
  },
  {
   "cell_type": "code",
   "execution_count": 43,
   "metadata": {},
   "outputs": [
    {
     "name": "stderr",
     "output_type": "stream",
     "text": [
      "/usr/lib64/python3.6/site-packages/sklearn/svm/base.py:922: ConvergenceWarning: Liblinear failed to converge, increase the number of iterations.\n",
      "  \"the number of iterations.\", ConvergenceWarning)\n"
     ]
    },
    {
     "data": {
      "text/plain": [
       "Pipeline(memory=None,\n",
       "     steps=[('vectorizer', CountVectorizer(analyzer='word', binary=False, decode_error='strict',\n",
       "        dtype=<class 'numpy.int64'>, encoding='utf-8', input='content',\n",
       "        lowercase=True, max_df=1.0, max_features=None, min_df=1,\n",
       "        ngram_range=(1, 2), preprocessor=None, stop_words=None,\n",
       "       ..._class='ovr', penalty='l2', random_state=None, tol=0.0001,\n",
       "     verbose=0),\n",
       "          n_jobs=None))])"
      ]
     },
     "execution_count": 43,
     "metadata": {},
     "output_type": "execute_result"
    }
   ],
   "source": [
    "#fit model with training data\n",
    "model.fit(X_train, y_train)"
   ]
  },
  {
   "cell_type": "code",
   "execution_count": 44,
   "metadata": {},
   "outputs": [
    {
     "name": "stdout",
     "output_type": "stream",
     "text": [
      "accuracy 0.7913590216889709\n"
     ]
    }
   ],
   "source": [
    "y_pred = model.predict(X_test)\n",
    "print('accuracy %s' % accuracy_score(y_pred, y_test))"
   ]
  },
  {
   "cell_type": "markdown",
   "metadata": {},
   "source": [
    "# Using Random Forest Search and cross validation"
   ]
  },
  {
   "cell_type": "code",
   "execution_count": 15,
   "metadata": {},
   "outputs": [
    {
     "name": "stdout",
     "output_type": "stream",
     "text": [
      "{'clf__n_estimators': [200, 300], 'clf__max_depth': [150, 300], 'clf__min_samples_split': [10, 20], 'clf__min_samples_leaf': [1]}\n"
     ]
    }
   ],
   "source": [
    "\n",
    "# Number of trees in random forest\n",
    "n_estimators = [int(x) for x in np.linspace(start = 200, stop = 300, num = 2)]\n",
    "# Maximum number of levels in tree\n",
    "max_depth = [int(x) for x in np.linspace(150, 300, num = 2)]\n",
    "#max_depth.append(None)\n",
    "# Minimum number of samples required to split a node\n",
    "min_samples_split = [10,20]\n",
    "# Minimum number of samples required at each leaf node\n",
    "min_samples_leaf = [1]\n",
    "\n",
    "\n",
    "\n",
    "# Create the random grid\n",
    "random_grid = {\n",
    "               'clf__n_estimators': n_estimators,\n",
    "               'clf__max_depth': max_depth,\n",
    "               'clf__min_samples_split': min_samples_split,\n",
    "               'clf__min_samples_leaf': min_samples_leaf\n",
    "              }\n",
    "print(random_grid)"
   ]
  },
  {
   "cell_type": "code",
   "execution_count": 16,
   "metadata": {},
   "outputs": [],
   "source": [
    "#preparing the final pipeline using the selected parameters\n",
    "model = Pipeline([('vectorizer', CountVectorizer(ngram_range=(1,2))),\n",
    "    ('tfidf', TfidfTransformer(use_idf=True)),\n",
    "    ('clf', RandomForestClassifier(max_features='auto',bootstrap=False,random_state = 42))])"
   ]
  },
  {
   "cell_type": "code",
   "execution_count": 17,
   "metadata": {},
   "outputs": [
    {
     "name": "stdout",
     "output_type": "stream",
     "text": [
      "Fitting 2 folds for each of 8 candidates, totalling 16 fits\n"
     ]
    },
    {
     "name": "stderr",
     "output_type": "stream",
     "text": [
      "[Parallel(n_jobs=-1)]: Using backend LokyBackend with 8 concurrent workers.\n",
      "[Parallel(n_jobs=-1)]: Done   3 out of  16 | elapsed: 29.6min remaining: 128.2min\n",
      "[Parallel(n_jobs=-1)]: Done   5 out of  16 | elapsed: 33.2min remaining: 73.0min\n",
      "[Parallel(n_jobs=-1)]: Done   7 out of  16 | elapsed: 39.8min remaining: 51.1min\n",
      "[Parallel(n_jobs=-1)]: Done   9 out of  16 | elapsed: 58.0min remaining: 45.1min\n",
      "[Parallel(n_jobs=-1)]: Done  11 out of  16 | elapsed: 60.8min remaining: 27.6min\n",
      "[Parallel(n_jobs=-1)]: Done  13 out of  16 | elapsed: 63.5min remaining: 14.7min\n",
      "[Parallel(n_jobs=-1)]: Done  16 out of  16 | elapsed: 64.4min finished\n"
     ]
    },
    {
     "name": "stdout",
     "output_type": "stream",
     "text": [
      "CPU times: user 22min 17s, sys: 4.27 s, total: 22min 21s\n",
      "Wall time: 1h 26min 37s\n"
     ]
    }
   ],
   "source": [
    "%%time\n",
    "gs_clf_rfc = GridSearchCV(model, random_grid,cv=2,verbose=10, n_jobs=-1)\n",
    "gs_clf_rfc.fit(X_train, y_train)"
   ]
  },
  {
   "cell_type": "code",
   "execution_count": 18,
   "metadata": {},
   "outputs": [
    {
     "data": {
      "text/plain": [
       "{'clf__max_depth': 150,\n",
       " 'clf__min_samples_leaf': 1,\n",
       " 'clf__min_samples_split': 10,\n",
       " 'clf__n_estimators': 300}"
      ]
     },
     "execution_count": 18,
     "metadata": {},
     "output_type": "execute_result"
    }
   ],
   "source": [
    "gs_clf_rfc.best_params_"
   ]
  },
  {
   "cell_type": "code",
   "execution_count": 19,
   "metadata": {},
   "outputs": [
    {
     "data": {
      "text/plain": [
       "0.6969097651421507"
      ]
     },
     "execution_count": 19,
     "metadata": {},
     "output_type": "execute_result"
    }
   ],
   "source": [
    "gs_clf_rfc.best_score_"
   ]
  },
  {
   "cell_type": "code",
   "execution_count": 20,
   "metadata": {},
   "outputs": [
    {
     "name": "stdout",
     "output_type": "stream",
     "text": [
      "accuracy 0.7219081679741578\n",
      "CPU times: user 27.7 s, sys: 128 ms, total: 27.8 s\n",
      "Wall time: 27.8 s\n"
     ]
    }
   ],
   "source": [
    "%%time\n",
    "model = gs_clf_rfc.best_estimator_\n",
    "y_pred = model.predict(X_test)\n",
    "print('accuracy %s' % accuracy_score(y_pred, y_test))"
   ]
  },
  {
   "cell_type": "code",
   "execution_count": 28,
   "metadata": {},
   "outputs": [],
   "source": [
    "vectorizer = CountVectorizer(ngram_range=(1,2))\n",
    "tfidf = TfidfTransformer(use_idf=True)\n",
    "rfc = RandomForestClassifier(max_features='auto',bootstrap=False,random_state = 42)\n",
    "param_grid = {\n",
    "               'n_estimators': n_estimators,\n",
    "               'max_depth': max_depth,\n",
    "               'min_samples_split': min_samples_split,\n",
    "               'min_samples_leaf': min_samples_leaf\n",
    "              }"
   ]
  },
  {
   "cell_type": "code",
   "execution_count": 23,
   "metadata": {},
   "outputs": [
    {
     "name": "stdout",
     "output_type": "stream",
     "text": [
      "CPU times: user 25.5 s, sys: 664 ms, total: 26.2 s\n",
      "Wall time: 26.2 s\n"
     ]
    }
   ],
   "source": [
    "%%time\n",
    "X1 = vectorizer.fit_transform(X_train,y_train)\n",
    "X2 = tfidf.fit_transform(X1,y_train)"
   ]
  },
  {
   "cell_type": "code",
   "execution_count": 30,
   "metadata": {},
   "outputs": [
    {
     "name": "stdout",
     "output_type": "stream",
     "text": [
      "Fitting 2 folds for each of 8 candidates, totalling 16 fits\n"
     ]
    },
    {
     "name": "stderr",
     "output_type": "stream",
     "text": [
      "[Parallel(n_jobs=-1)]: Using backend LokyBackend with 8 concurrent workers.\n",
      "[Parallel(n_jobs=-1)]: Done   3 out of  16 | elapsed: 41.5min remaining: 179.9min\n",
      "[Parallel(n_jobs=-1)]: Done   5 out of  16 | elapsed: 50.0min remaining: 110.0min\n",
      "[Parallel(n_jobs=-1)]: Done   7 out of  16 | elapsed: 59.6min remaining: 76.7min\n",
      "[Parallel(n_jobs=-1)]: Done   9 out of  16 | elapsed: 75.3min remaining: 58.6min\n",
      "[Parallel(n_jobs=-1)]: Done  11 out of  16 | elapsed: 81.5min remaining: 37.0min\n",
      "[Parallel(n_jobs=-1)]: Done  13 out of  16 | elapsed: 86.8min remaining: 20.0min\n",
      "[Parallel(n_jobs=-1)]: Done  16 out of  16 | elapsed: 87.9min finished\n"
     ]
    },
    {
     "name": "stdout",
     "output_type": "stream",
     "text": [
      "CPU times: user 21min 28s, sys: 1.46 s, total: 21min 30s\n",
      "Wall time: 1h 49min 25s\n"
     ]
    }
   ],
   "source": [
    "%%time\n",
    "gs_cv_clf_rfc = GridSearchCV(estimator=rfc, param_grid=param_grid,cv=2,verbose=15, n_jobs=-1)\n",
    "gs_cv_clf_rfc.fit(X2, y_train)"
   ]
  }
 ],
 "metadata": {
  "kernelspec": {
   "display_name": "Python 3",
   "language": "python",
   "name": "python3"
  },
  "language_info": {
   "codemirror_mode": {
    "name": "ipython",
    "version": 3
   },
   "file_extension": ".py",
   "mimetype": "text/x-python",
   "name": "python",
   "nbconvert_exporter": "python",
   "pygments_lexer": "ipython3",
   "version": "3.6.6"
  }
 },
 "nbformat": 4,
 "nbformat_minor": 2
}
